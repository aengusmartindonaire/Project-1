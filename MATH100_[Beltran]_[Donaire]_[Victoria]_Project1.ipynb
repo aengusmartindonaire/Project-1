{
 "cells": [
  {
   "cell_type": "markdown",
   "id": "7c280850-3685-48a2-b17b-36b1a1568bda",
   "metadata": {},
   "source": [
    "# MATH 100.2 Project 1: VaR for Currencies and Bonds\n",
    "\n",
    "### Instructor: Juan Carlo F. Mallari (jmallari@ateneo.edu)\n",
    "\n",
    "MATH 100.2: Topics in Financial Mathematics II \\\n",
    "First Semester, S.Y. 2022-2023 \\\n",
    "Ateneo de Manila University"
   ]
  },
  {
   "cell_type": "markdown",
   "id": "88f199f1-187f-4a8e-9426-b6b25493cd6d",
   "metadata": {},
   "source": [
    "Submitted by:\n",
    "1. BELTRAN, Neil John\n",
    "2. DONAIRE, Martin\n",
    "3. VICTORIA, Maj\n",
    "\n",
    "People I asked help from:\n",
    "\n",
    "1. Jimson Paulo Layacan\n",
    "\n",
    "Resources used for completing this project:\n",
    "1. https://www.programiz.com/python-programming/examples/quadratic-roots\n",
    "2. https://www.w3schools.com/python/ref_func_range.asp\n",
    "3. https://realpython.com/python-complex-numbers/\n",
    "4. https://stackoverflow.com/questions/32932866/numpy-the-best-way-to-remove-the-last-element-from-1-dimensional-array#:~:text=5\n",
    "5. https://www.geeksforgeeks.org/how-to-calculate-correlation-between-two-columns-in-pandas/\n",
    "6. https://merage.uci.edu/~jorion/oc/case5.html\n"
   ]
  },
  {
   "cell_type": "markdown",
   "id": "bcf66ec4-2402-4da9-a860-a3f2a01512cf",
   "metadata": {},
   "source": [
    "### PACKAGES"
   ]
  },
  {
   "cell_type": "code",
   "execution_count": 1,
   "id": "425de205-4f8b-44cd-a321-9e5d3a615cf2",
   "metadata": {},
   "outputs": [],
   "source": [
    "import numpy as np # Numerical Computing\n",
    "import pandas as pd # Data wrangling\n",
    "import matplotlib.pyplot as plt #Plotting\n",
    "import datetime as dt\n",
    "\n",
    "from statistics import NormalDist # statistical analysis\n",
    "from tabulate import tabulate #Tables\n",
    "from dateutil.relativedelta import relativedelta"
   ]
  },
  {
   "cell_type": "markdown",
   "id": "520180a0-7ade-4a07-b6cd-e0731430817f",
   "metadata": {},
   "source": [
    "### PART 1: Functional Implementation"
   ]
  },
  {
   "cell_type": "markdown",
   "id": "76f6ebfe-83dc-4306-9590-31649326ab3b",
   "metadata": {},
   "source": [
    " `HELPER FUNCTIONS`\n"
   ]
  },
  {
   "cell_type": "code",
   "execution_count": 2,
   "id": "dd818487-9c04-4b92-bb3a-caffe8513661",
   "metadata": {},
   "outputs": [],
   "source": [
    "def linear_interp(t,x,y):\n",
    "    '''\n",
    "    Linearly interpolates the zero rate for tenor t \n",
    "    using the equation of line determined by the two available points \n",
    "    (x_1,y_1) and (x_2,y_2) whose tenors x_1 and x_2 are nearest to t\n",
    "    \n",
    "    -------\n",
    "    Inputs:\n",
    "    t = tenor of the unknown zero rate \n",
    "    x = list [x_1,x_2]\n",
    "    y = list [y_1,y_2]\n",
    "    '''\n",
    "    m = (y[1]-y[0])/(x[1]-x[0])\n",
    "    \n",
    "    y = y[0] + m*(t-x[0])\n",
    "    \n",
    "    return y"
   ]
  },
  {
   "cell_type": "code",
   "execution_count": 3,
   "id": "1361314d-b883-4e8c-89ce-cd38ca0b2320",
   "metadata": {},
   "outputs": [],
   "source": [
    "def get_tenor(\n",
    "    start_date, end_date\n",
    "    ):\n",
    "    \"\"\"\n",
    "    Calculates the tenor in years from start_date to end_date following the Actual/360 day count convention\n",
    "    \n",
    "    Inputs:\n",
    "    start_date: start date in \"yyyy-mm-dd\" format (usually today)\n",
    "    end_date: end date in \"yyyy-mm-dd\" format (coupon payment/maturity date)\n",
    "    \"\"\"\n",
    "    \n",
    "    day_count = (end_date - start_date).days\n",
    "    tenor = day_count / 360.0\n",
    "    \n",
    "    return tenor"
   ]
  },
  {
   "cell_type": "code",
   "execution_count": 4,
   "id": "5bf695cb-c80a-4c05-8412-8e7366dd0371",
   "metadata": {},
   "outputs": [],
   "source": [
    "def get_DV01(start_date, maturity_date, \n",
    "    face_value, coupon_rate,\n",
    "    coupon_freq, ytm\n",
    "): \n",
    "    \"\"\"\n",
    "    A helper function for #6 and #7 that calculates the DV01 of a (plain vanilla) coupon-bearing or zero-coupon bond.\n",
    "    ------\n",
    "    Notes:\n",
    "    1) The Actual/360 day count convention is used.\n",
    "    2) The yield is assumed to be continuously compounded.\n",
    "    \"\"\"\n",
    "    \"\"\"\n",
    "    Inputs:\n",
    "    start_date     : start date in \"yyyy-mm-dd\" format (usually today)\n",
    "    maturity_date  : maturity date in \"yyyy-mm-dd\" format\n",
    "    face_value     : quantity or par value of the bond\n",
    "    coupon_rate    : coupon rate in decimal form\n",
    "    coupon_freq    : number of coupon payments every year (1, 2, 4, 12)\n",
    "    ytm            : yield to maturity \n",
    "                     (if not given, the most recent of the each bond in the portfolio)\n",
    "    Return\n",
    "    -------\n",
    "    float (Do not round off for an accurate VaR)\n",
    "        The DV01 of a (plain vanilla) coupon-bearing or zero-coupon bond.\n",
    "    \"\"\"\n",
    "    \n",
    "    def get_tenor(start_date, maturity_date):\n",
    "        \n",
    "        \"\"\"\n",
    "        Calculates the tenor in years from start_date to end_date following the Actual/360 day count convention\n",
    "    \n",
    "        Inputs:\n",
    "        start_date: start date in \"yyyy-mm-dd\" format (usually today)\n",
    "        end_date: end date in \"yyyy-mm-dd\" format (coupon payment/maturity date)\n",
    "        \n",
    "        Return\n",
    "        ------\n",
    "        float (the tenor of each bond)\n",
    "        \"\"\"\n",
    "        \n",
    "        day_count = (maturity_date - start_date).days\n",
    "        tenor = day_count / 360.0\n",
    "        return tenor\n",
    "    \n",
    "    # Covert the dates into a compatible format\n",
    "    start_date = dt.datetime.strptime(start_date, '%Y-%m-%d')\n",
    "    maturity_date = dt.datetime.strptime(maturity_date, '%Y-%m-%d')\n",
    "    \n",
    "    #for the zero-bond in the porftolio\n",
    "    if coupon_freq == 0:\n",
    "        tenor = get_tenor(start_date, maturity_date)\n",
    "        m_value = face_value*np.exp(-tenor*ytm)                           #market value\n",
    "        m_price = (m_value/face_value)*100                                #market price\n",
    "        m_dur = (m_price * tenor)/100                                     #modified duration\n",
    "    \n",
    "        DV01= (m_dur * m_value)/100**2                                    #DV01 of a bond\n",
    "        \n",
    "    #for the plain vanilla bond (bond with coupon payments)   \n",
    "    else:\n",
    "        coupon_dates = []\n",
    "        coupon_date = maturity_date\n",
    "        # Create list of coupon dates\n",
    "        while start_date < coupon_date:\n",
    "            coupon_dates.append(coupon_date)\n",
    "            coupon_date -= relativedelta(months = 12 / coupon_freq)\n",
    "\n",
    "        coupon_dates = coupon_dates[::-1] # rearrange dates\n",
    "        # Create list of time values\n",
    "        times = [get_tenor(start_date, t) for t in coupon_dates]\n",
    "\n",
    "        # Create list of coupons\n",
    "        coupon = (coupon_rate * face_value) / coupon_freq\n",
    "        coupons = [coupon] * (len(coupon_dates) - 1)\n",
    "        coupons += [coupon + face_value]\n",
    "\n",
    "        # Create list of discount factors\n",
    "        discount_factors = [np.exp(-ytm * t) for t in times]\n",
    "\n",
    "        df = pd.DataFrame({'coupon_dates' : coupon_dates})\n",
    "        df.loc[:, \"t\"] = times\n",
    "        df.loc[:, \"CF\"] = coupons\n",
    "        df.loc[:, \"DF\"] = discount_factors\n",
    "        df.loc[:, \"PV\"] = df[\"CF\"] * df[\"DF\"]\n",
    "        \n",
    "        # Compute for the market value/ bond price\n",
    "        m_value = df[\"PV\"].sum()\n",
    "        \n",
    "        # Compute for the modified duration D*\n",
    "        df[\"PVCFt\"]= (df[\"PV\"] * df[\"t\"])\n",
    "        m_dur = (df[\"PVCFt\"].sum())/(m_value)\n",
    "\n",
    "        DV01= (m_dur*m_value)/100**2\n",
    "    \n",
    "    return DV01"
   ]
  },
  {
   "cell_type": "markdown",
   "id": "9daba6c6-1a84-4f72-9295-36f6bb9369d5",
   "metadata": {},
   "source": [
    "1. `undiversified_VaR_delta_normal_fx()`\n",
    "        - Returns the undiversified d-day p% VaR of a portfolio of currencies using the Delta-Normal Approach\n",
    "        - This should include the option to implement EWMA in estimating volatilities of exchange-rate returns\n",
    "        - Uses N-day logarithmic returns for calculating the N-day VaR "
   ]
  },
  {
   "cell_type": "code",
   "execution_count": 5,
   "id": "838c6edc-353b-4a2d-85ce-da159e972b51",
   "metadata": {
    "tags": []
   },
   "outputs": [],
   "source": [
    "def undiversified_d_day_p_percent_VaR_delta_normal_fx(\n",
    "    df_lst, F_lst, d, p, \n",
    "    ewma_par_lst=None\n",
    "):\n",
    "    \n",
    "    \"\"\"Returns the undiversified d-day p% VaR of a portfolio of currencies using Delta Normal Approach. \n",
    "    This function uses the N-day logarithmic returns in calculating N-day VaR. \n",
    "    \n",
    "    Parameters\n",
    "    ----------\n",
    "    df_lst : list of pandas.DataFrame\n",
    "        each df has two columns: (1) Date [str] and (2) Mid quote of the currency [float]\n",
    "        assumes the dates are arranged from newest to oldest, and the date today is the date on the first row\n",
    "        asssumes that all dfs have the same ordered list of dates\n",
    "        assume that there is one df per currencies in the portfolio and PHP is always the quote currency. \n",
    "    F_lst : list (of int)\n",
    "        F_i = position ith currency (order should be the same as the order in df_lst)\n",
    "    d : int\n",
    "        the value to be used in calculating the d-day VaR (e.g. 1-day, 5-day)\n",
    "    p : int\n",
    "        the value to be used in calculating the p% VaR (e.g. 99, 95)\n",
    "    ewma_par_lst : list (of float)\n",
    "        ewma_par_i = the value of the lambda parameter in an exponentially-weighted moving average model \n",
    "        for ith currency (order should be the same as the order in df_lst) \n",
    "        assumes the value is in range (0,1)\n",
    "        assumes there is no None value in the list\n",
    "    \n",
    "    Returns\n",
    "    -------\n",
    "    float (2 decimal places)\n",
    "        undiversified d-day p% VaR of a portfolio of currency using Delta Normal Approach\n",
    "    \"\"\"\n",
    "    \n",
    "    #computes the return column for each df.\n",
    "    def get_return(df):\n",
    "        \"\"\"\n",
    "        df is the original df\n",
    "        appends returns series to df\n",
    "        \"\"\"\n",
    "        return np.log(df[\"Mid\"] / df[\"previous\"])\n",
    "\n",
    "    #computes the weight column if log(returns) follows EWMA.\n",
    "    def get_weights(df,d, ewma_par):\n",
    "        \"\"\"\n",
    "        df is the original df\n",
    "        appends weight series to df\n",
    "        \"\"\"\n",
    "        count_returns= len(df[\"Mid\"]) - d                                           #gives the number of non NaN entries\n",
    "        weight_lst = [ ((1-ewma_par)*(ewma_par)**j) for j in range(count_returns)]  #calculate the weights\n",
    "        df[\"weights\"] = pd.Series(weight_lst)                                       #attach the weights as a column to the df\n",
    "        return df\n",
    "    \n",
    "    #Case 1: I'll use the VaR with EWMA\n",
    "    def get_VaR_with_EWMA(df, F , d , p , ewma_par):    #a helper function to compute the VaR (with EWMA) of each currency in the portfolio.\n",
    "        \n",
    "        \"\"\"Returns the d-day 100(alpha)% VaR of a single currency using Delta Normal Approach with EWMA.\n",
    "    \n",
    "        Parameters\n",
    "        ----------\n",
    "        df : pandas.DataFrame\n",
    "            has two columns: (1) Date [str] and (2) closing price [float]\n",
    "            assumes the dates are arranged from newest to oldest, and the date today is the date on the first row  \n",
    "        N : int\n",
    "            number of shares for the sole currency\n",
    "        d : int\n",
    "            value of d for the d-day VaR\n",
    "        p : int\n",
    "            the value to be used in calculting the 100(alpha)% VaR (e.g. 0.99, 0.95)\n",
    "        ewma_par : float\n",
    "            the value of the lambda parameter in an EWMA model for the volatility of the currency\n",
    "            assumes the value is in the range (0,1)\n",
    "\n",
    "        Returns\n",
    "        -------\n",
    "        float\n",
    "            d-day 100p% VaR of a single currency using Delta Normal Approach (with EWMA)\n",
    "        \"\"\"\n",
    "        \n",
    "        y0 = df.loc[0,\"Mid\"]                                  #find the recent Mid price of each currency in the portfolio.\n",
    "        \n",
    "        df[\"previous\"]= df[\"Mid\"].shift(-d)                   #shift the closing prices d up (-d down) to compute the return.\n",
    "        df[\"return\"] = df.apply(get_return, axis=1)           #computes the return\n",
    "        \n",
    "        df = get_weights(df, d, ewma_par)                       #obtain the weights\n",
    "        variance = np.nansum(df[\"weights\"] * (df[\"return\"]**2)) #computes the estimated variance (weighted)\n",
    "        sigma = np.sqrt(variance)                               #standard deviation of the log(returns) with EWMA \n",
    "        quantile = NormalDist().inv_cdf(p/100)                  #computes for the quantie of p%\n",
    "        \n",
    "        var = F * y0 * sigma * quantile                         #compute each df's VaR under this case\n",
    "    \n",
    "        return var\n",
    "    \n",
    "    #Case 2: I'll use the delta-normal VaR (without EWMA)\n",
    "    def get_VaR_Normal(df, F ,d, p ):  #a helper function to compute the VaR (without EWMA par) of each currency in the portfolio.\n",
    "        \n",
    "        \"\"\"Returns the d-day 100p% VaR of a currency using Delta Normal Approach.\n",
    "    \n",
    "        Parameters\n",
    "        ----------\n",
    "        df : pandas.DataFrame\n",
    "            has two columns: (1) Date [str] and (2) Mid quote [float]\n",
    "            assumes the dates are arranged from newest to oldest, and the date today is the date on the first row  \n",
    "        F : int\n",
    "            position of currency\n",
    "        d : int\n",
    "            the value to be used in calculating the d-day VaR (e.g. 1-day, 5-day)     \n",
    "        p : int\n",
    "            the value to be used in calculting the 100(alpha)% VaR (e.g. 0.99, 0.95)\n",
    "        Returns\n",
    "        -------\n",
    "        float \n",
    "            d-day 100p% VaR of a single currency using Delta Normal Approach\n",
    "        \"\"\"\n",
    "\n",
    "        y0 = df.loc[0,\"Mid\"]                         #find the recent price of each currency in the portfolio.\n",
    "\n",
    "        df[\"previous\"]= df[\"Mid\"].shift(-d)          #shift the closing prices d up (or -d down) to compute the return.\n",
    "        df[\"return\"] = df.apply(get_return, axis=1)  #compute the return\n",
    "        \n",
    "        sigma = df[\"return\"].std()                   #standard deviation of your currency returns without EWMA\n",
    "        quantile = NormalDist().inv_cdf(p/100)\n",
    "\n",
    "        var = F * y0 * sigma * quantile              #compute the VaR under this case\n",
    "    \n",
    "        return var                                   #get the var for each currency in the porfolio\n",
    "    \n",
    "    #Compute portfolio's undiversified VaR\n",
    "    if (ewma_par_lst != None) and ((min(ewma_par_lst)>0) and (max(ewma_par_lst)<1)): #Uses the Case 1 function to sum portfolio's VaR (EWMA model)\n",
    "        total = 0                                                                    #stores each df's var\n",
    "        for df, F, ewma in zip(df_lst, F_lst, ewma_par_lst):\n",
    "            total += get_VaR_with_EWMA(df,abs(F),d,p,ewma)\n",
    "            \n",
    "    else:                                            #Uses the Case 2 function (without the EWMA par) to sum portfolio's VaR\n",
    "        total = 0                                    #stores each df's var\n",
    "        for df, F in zip(df_lst, F_lst):\n",
    "            total += get_VaR_Normal(df,abs(F),d,p)\n",
    "    \n",
    "    return round(total,2)"
   ]
  },
  {
   "cell_type": "markdown",
   "id": "7d22a7bc-f108-4b69-ba03-a07c920a39c9",
   "metadata": {},
   "source": [
    "2. `diversified_VaR_delta_normal_fx()`\n",
    "        - Returns the diversified d-day p% VaR of a portfolio of currencies using the Delta-Normal Approach\n",
    "        - When you want to use EWMA for an N-asset portfolio, this function will only calculate the EWMA for a two-asset portfolio\n",
    "        - Uses N-day logarithmic returns in calculating the N-day VaR "
   ]
  },
  {
   "cell_type": "code",
   "execution_count": 6,
   "id": "67f3188a-4292-4a52-8a72-1927a6753d7a",
   "metadata": {
    "tags": []
   },
   "outputs": [],
   "source": [
    "def diversified_d_day_p_percent_VaR_delta_normal_fx(\n",
    "    df_lst, F_lst, d, p,\n",
    "    ewma_par_lst=None,\n",
    "    covar_ewma_par=None\n",
    "):\n",
    "    \n",
    "    \"\"\"Returns the diversified d-day p% VaR of a portfolio of currencies using Delta Normal Approach.\n",
    "       This function uses the N-day logarithmic returns in calculating N-day VaR.\n",
    "    \"\"\"  \n",
    "    \"\"\"   \n",
    "    Parameters\n",
    "    ----------\n",
    "    df_lst : list of pandas.DataFrame\n",
    "        each df has two columns: (1) Date [str] and (2) Mid quote [float]\n",
    "        assumes the dates are arranged from newest to oldest, and the date today is the date on the first row\n",
    "        asssumes that all dfs have the same ordered list of dates\n",
    "        there is one df per currency in the portfolio and PHP is always the quote currency.\n",
    "    F_lst : list (of int)\n",
    "        N_i = position of the ith currency (order should be the same as the order in df_lst)\n",
    "    d : int\n",
    "        the value to be used in calculating the d-day VaR (e.g. 1-day, 5-day)\n",
    "    p : int\n",
    "        the value to be used in calculating the p% VaR (e.g. 99, 95)\n",
    "    ewma_par_lst : list (of float)\n",
    "        ewma_par_i = the value of the lambda parameter in an exponentially-weighted moving average model \n",
    "        for ith currency (order should be the same as the order in df_lst) \n",
    "        assumes the value is in range (0,1)\n",
    "        assumes there is no None value in the list\n",
    "    covar_ewma_par : float\n",
    "        the EWMA decay parameter for the covariance of the returns of currency 1 and 2\n",
    "        \n",
    "        ** ASSUMPTION: when you want to use EWMA for an N-asset portfolio, this function will only calculate the EWMA \n",
    "        for a two-asset portfolio **\n",
    "    \n",
    "    Returns\n",
    "    -------\n",
    "    float (2 decimal places)\n",
    "        diversified d-day p% VaR of a portfolio of currency using Delta Normal Approach\n",
    "    \"\"\"\n",
    "    \n",
    "    #obtain the return column for each df\n",
    "    def get_return(df):\n",
    "        \"\"\"\n",
    "        df is the original df\n",
    "        appends returns series to df\n",
    "        \"\"\"\n",
    "        return np.log(df[\"Mid\"] / df[\"previous\"])\n",
    "    \n",
    "    #obtain the weight column for each df (for EWMA model)\n",
    "    def get_weights(df,d, ewma_par):\n",
    "        \"\"\"\n",
    "        df is the original df\n",
    "        appends weight series to df\n",
    "        \"\"\"\n",
    "        count_returns= len(df[\"Mid\"]) - d                                           #gives the number of non NaN entries\n",
    "        weight_lst = [ ((1-ewma_par)*(ewma_par)**j) for j in range(count_returns) ] #calculate/lists the weights \n",
    "        df[\"weights\"] = pd.Series(weight_lst)                                       #appends the weight list as one column to the df\n",
    "        return df\n",
    "    \n",
    "    #Obtain the alpha row matrix\n",
    "    S = np.array([])\n",
    "    for df in df_lst:\n",
    "        S=np.append(S, df[\"Mid\"][0] )\n",
    "    alpha = np.array(F_lst) * S\n",
    "\n",
    "    #Case 1: I want to use EWMA for 2-asset portfolio\n",
    "    if len(df_lst) == 2 and len(F_lst) == 2 and (covar_ewma_par != None) and (0 < covar_ewma_par < 1 ) \\\n",
    "        and (ewma_par_lst != None) and ((min(ewma_par_lst) > 0) and ( max(ewma_par_lst) < 1)):\n",
    "        \n",
    "        sigma2 = np.array([])   #storage for the variance of each currency which will be used to construct the variance-covariance matrix\n",
    "        ret = []                #storage for the return of two currency which will be used to compute for the covar between two returns\n",
    "        for df, ewma_par in zip(df_lst, ewma_par_lst):\n",
    "            \n",
    "            #a matrix where the return of two currency are contained\n",
    "            df[\"previous\"]= df[\"Mid\"].shift(-d)\n",
    "            df[\"return\"]=df.apply( get_return, axis=1 )\n",
    "            ret.append(df[\"return\"]) #this will be used to compute the covariance (with EWMA) below.\n",
    "            \n",
    "            #portfolio's variance-covariance matrix\n",
    "            df = get_weights(df, d, ewma_par)\n",
    "            variance = np.nansum(df[\"weights\"] * (df[\"return\"]**2))\n",
    "            sigma2 = np.append(sigma2, variance)  #store each currency's variance (with EWMA model)\n",
    "        \n",
    "            #this will make use a df in df_lst, but we only need the weights column used in computing the covar value.\n",
    "            dfc   = get_weights(df, d, covar_ewma_par)\n",
    "               \n",
    "        covar = np.nansum( dfc[\"weights\"] * (ret[0] * ret[1]) )                   #covariance of the returns of asset 1 and 2 (with EWMA)\n",
    "        covm = np.array([[sigma2[0], covar],[covar, sigma2[1]]])                  #forming the variance-covariance matrix of the portfolio\n",
    "        sigmap =  np.sqrt(np.matmul(np.matmul(alpha,covm),np.transpose(alpha)))   #standard deviation of the portfolio\n",
    "    \n",
    "    #Case 2: Delta Normal Approach (without EWMA) for N-asset portfolio\n",
    "    else:\n",
    "        ret2= [ ]                                       #store for the return matrix of each of the N currencies\n",
    "        for df in df_lst:                               #this part will form a matrix of all the returns (same order in df_lst).\n",
    "            df[\"previous\"]= df[\"Mid\"].shift(-d)  \n",
    "            df[\"return\"]=df.apply(get_return, axis=1)\n",
    "            df = df.dropna()                            #remove the NaN values in each currency's returns\n",
    "            ret2.append(list(df[\"return\"]))             #forming the return matrix for the N-currency portfolio\n",
    "            \n",
    "        covm = np.cov(np.array(ret2))                   #variance-covariance matrix for this case\n",
    "        sigmap = np.sqrt(np.matmul(np.matmul(alpha,covm),np.transpose(alpha)))   #standard deviation of the portfolio\n",
    "    #Compute the portfolio's diversified VaR\n",
    "    var = sigmap * NormalDist().inv_cdf(p/100)\n",
    "    \n",
    "    return round(var,2)"
   ]
  },
  {
   "cell_type": "markdown",
   "id": "bed96118-676e-4efd-b93f-4ac4aea6ef05",
   "metadata": {},
   "source": [
    "3. `VaR_hs_fx()`\n",
    "        - Returns the d-day p% VaR of a portfolio of currencies using the Historical Simulation (HS) Approach\n",
    "        - Implements the normal HS method (which simulates scenarios for the return of each individual currency), not the \"alternative\" HS method (which runs scenarios for the returns of the entire portfolio)"
   ]
  },
  {
   "cell_type": "code",
   "execution_count": 7,
   "id": "38cf1c44-0ec5-4cf6-910a-51d26106c5d2",
   "metadata": {},
   "outputs": [],
   "source": [
    "def VaR_hs_fx(\n",
    "    df_lst, F_lst, d, p, \n",
    "):\n",
    "    \"\"\"\n",
    "    PORTFOLIO LEVEL\n",
    "    \"\"\"\n",
    "    def get_return(df, d):\n",
    "        \"\"\"\n",
    "        df is the original df\n",
    "        appends returns series to df\n",
    "        \"\"\"\n",
    "    \n",
    "        df[\"previous\"] = df[\"Mid\"].shift(-d)\n",
    "        df[\"return\"] = np.log(df[\"Mid\"]/df[\"previous\"])\n",
    "        return df   \n",
    "    \n",
    "    ret = []\n",
    "    for df in df_lst:\n",
    "        df_ret = get_return(df,d)\n",
    "        ret.append(df_ret[\"return\"])\n",
    "        \n",
    "    y0 = []\n",
    "    for df in df_lst:\n",
    "        y0_recent = df.loc[0,\"Mid\"]\n",
    "        y0.append(y0_recent)\n",
    "    \n",
    "    change_in_value=[]\n",
    "    for i in range(len(df_lst[0])):\n",
    "        deltap= np.nansum(np.array(F_lst) * np.array(np.transpose(ret)[i]) * np.array(y0))\n",
    "        change_in_value.append(deltap)\n",
    "\n",
    "    dfDeltaP = pd.DataFrame({'Date' : df_lst[0].iloc[:,0]})\n",
    "    dfDeltaP.loc[:,\"change_in_value\"] = change_in_value\n",
    "    \n",
    "    M = len(df_lst[0])-d\n",
    "    k = int(np.floor((1-p/100)*M))\n",
    "    if k==0:\n",
    "        var = abs(dfDeltaP[\"change_in_value\"].sort_values(ignore_index=True)[k])\n",
    "    else:\n",
    "        var = abs(dfDeltaP[\"change_in_value\"].sort_values(ignore_index=True)[k-1])\n",
    "    \n",
    "    return round(var,2)"
   ]
  },
  {
   "cell_type": "markdown",
   "id": "e8e551fb-453d-4249-be12-42bd4352fb35",
   "metadata": {},
   "source": [
    "4. `VaR_brw_fx()`\n",
    "        - Returns the d-day p% VaR of a portfolio of currencies using the Boudoukh-Richardson-Whitelaw (BRW) Approach\n",
    "        - Similar to `VaR_hs_fx()`, this function implements the normal method (which simulates scenarios for the return of each individual currency), not the \"alternative\" method (which runs scenarios for the returns of the entire portfolio)"
   ]
  },
  {
   "cell_type": "code",
   "execution_count": 8,
   "id": "916a1bcc-7168-47b6-9557-8be7cb2e707f",
   "metadata": {},
   "outputs": [],
   "source": [
    "def VaR_brw_fx(df_lst, F_lst, \n",
    "    d, p, decay_par\n",
    "):\n",
    "    \n",
    "    \"\"\"\n",
    "    \"\"\"\n",
    "    def get_return(df, d):\n",
    "        \"\"\"\n",
    "        df is the original df\n",
    "        appends returns series to df\n",
    "        \"\"\"\n",
    "        df[\"previous\"] = df[\"Mid\"].shift(-d)\n",
    "        df[\"return\"] = np.log(df[\"Mid\"]/df[\"previous\"])\n",
    "        return df\n",
    "    \n",
    "    def get_change_in_value_df(df, F):\n",
    "        \"\"\"\n",
    "        df is the output of get_returns_df \n",
    "\n",
    "        appends change in portfolio value series to df\n",
    "        \"\"\"\n",
    "        y0 = df.loc[0, \"Mid\"]\n",
    "        df[\"change_in_value\"] = F * y0 * df[\"return\"]\n",
    "        return df\n",
    "    \n",
    "    def get_weights_df(df, d, decay_par):\n",
    "        \"\"\" \n",
    "        appends weights series to df\n",
    "        \"\"\"\n",
    "        count_returns = len(df_lst[0][\"Mid\"])-d # M\n",
    "        weight_lst = [(1-decay_par)*(decay_par**j)/(1-decay_par**count_returns) for j in range(count_returns)]\n",
    "        df[\"weight\"] = pd.Series(weight_lst)\n",
    "        return df\n",
    "    \n",
    "    def get_ecdf(df):\n",
    "        \"\"\"\n",
    "            assumes the input df have already passed through get_change_in_value_df and get_weights_df\n",
    "        \"\"\"\n",
    "        df = df.sort_values(by=\"change_in_value\")\n",
    "        df[\"ecdf\"] = df[\"weight\"].cumsum()\n",
    "        return df\n",
    "        \n",
    "    df_change = []\n",
    "    for df,F in zip(df_lst, F_lst):\n",
    "        df = get_return(df, d)\n",
    "        # Step 1.2: get your historical changes in currency values\n",
    "        df = get_change_in_value_df(df, F)\n",
    "        # Step 1.3: generate and store the change of values for each currency\n",
    "        df_change.append(df[\"change_in_value\"])\n",
    "        # Step 2: sum the change of values for each currency in the portfolio\n",
    "        df[\"change_in_value\"]= sum(df_change)\n",
    "        # Step 3: generate the weights\n",
    "        df = get_weights_df(df, d, decay_par)\n",
    "        # Step 4: construct the ecdf\n",
    "        df = get_ecdf(df)\n",
    "    \n",
    "    #Compute the VaR\n",
    "    VaR = abs(np.interp(1-p/100, df[\"ecdf\"], df[\"change_in_value\"]))\n",
    "    \n",
    "    return round(VaR,2)"
   ]
  },
  {
   "cell_type": "markdown",
   "id": "53dde5db-a4fb-4962-a822-fe0022a0fbbf",
   "metadata": {},
   "source": [
    "5. `VaR_cfm_bonds()`\n",
    "        - Returns the d-day p% VaR of a portfolio of bonds using Cash Flow Mapping (CFM)"
   ]
  },
  {
   "cell_type": "code",
   "execution_count": 9,
   "id": "f424160f-e4c0-4ee7-bb05-6083cff1d5e3",
   "metadata": {},
   "outputs": [],
   "source": [
    "def VaR_cfm_bonds(df, d, p, \n",
    "    face_value, start_date, maturity_date, coupon_rate, \n",
    "    coupon_freq):\n",
    "    \n",
    "    start_date    = dt.datetime.strptime(start_date, '%Y-%m-%d')\n",
    "    maturity_date = dt.datetime.strptime(maturity_date, '%Y-%m-%d')\n",
    "\n",
    "    coupon_dates = []\n",
    "    coupon_date  = maturity_date\n",
    "    while start_date < coupon_date:\n",
    "        coupon_dates.append(coupon_date)\n",
    "        coupon_date -= relativedelta(months = 12 / coupon_freq)\n",
    "\n",
    "    coupon_dates = coupon_dates[::-1]\n",
    "    \n",
    "    coupon = (coupon_rate * face_value) / coupon_freq\n",
    "    coupons = [coupon] * (len(coupon_dates) - 1)\n",
    "    coupons += [coupon + face_value]\n",
    "\n",
    "    def get_tenor(start_date, maturity_date):\n",
    "        day_count = (maturity_date - start_date).days\n",
    "        return day_count\n",
    "\n",
    "    times=[]\n",
    "    for t1 in coupon_dates:\n",
    "        time = get_tenor(start_date, t1)\n",
    "        times.append(time)\n",
    "        \n",
    "    df = pd.DataFrame(data= df.iloc[0:,1:])\n",
    "    df.rename(columns = {\"1-Month\":30, \"3-Month\":90, \"6-Month\":180, \"1-Year\":360, \n",
    "                         \"2-Year\":720, \"3-Year\":1080, \"4-Year\":1440, \"5-Year\":1800},inplace = True)\n",
    "         \n",
    "    columndf=df.columns\n",
    "    rateinterpo = []\n",
    "    for _ in times:\n",
    "        i=0\n",
    "        while columndf[i] < _ :\n",
    "            a,b = columndf[i],columndf[i+1]\n",
    "            i +=1\n",
    "        c1 = df[a].iloc[0]\n",
    "        d1 = df[b].iloc[0]\n",
    "        rateinterpo.append(linear_interp(_,[a,b],[c1,d1]))\n",
    "    \n",
    "    PV = np.array(coupons) * np.exp(-np.array(rateinterpo)*np.array(times)/360)\n",
    "    \n",
    "    alpha1_row = []\n",
    "    bench = []\n",
    "    bench1 = []\n",
    "    bench2 = []\n",
    "    for t in times:\n",
    "        i=0\n",
    "        while columndf[i] < t :\n",
    "            h,u = columndf[i],columndf[i+1]\n",
    "            i +=1\n",
    "\n",
    "        bench1.append(h)\n",
    "        bench2.append(u) \n",
    "        bench.append(h)\n",
    "        bench.append(u)\n",
    " \n",
    "        q1 = df[h]\n",
    "        r1 = df[u]\n",
    "\n",
    "        sigma1= q1.std()\n",
    "        sigma2= r1.std()\n",
    "        sigma = linear_interp(t,[h,u],[sigma1,sigma2])\n",
    "        rho = q1.corr(r1)\n",
    "\n",
    "        A = sigma1**2 + sigma2**2 -2*sigma1*sigma2*rho\n",
    "        B = 2*sigma1*sigma2*rho -2*sigma2**2\n",
    "        C = sigma2**2- sigma**2\n",
    "        D = B**2 - 4*A*C\n",
    "\n",
    "        sol1 = (-B-np.sqrt(D))/(2*A)\n",
    "        sol2 = (-B+np.sqrt(D))/(2*A)\n",
    "\n",
    "        if 0<= sol1 <=1:\n",
    "            alpha1=sol1.real\n",
    "        else:\n",
    "            alpha1=sol2.real\n",
    "           \n",
    "        alpha1_row.append(alpha1)\n",
    "\n",
    "    benchmarks = list(dict.fromkeys(bench[0:]))\n",
    "    df4= []\n",
    "    df5= pd.DataFrame()\n",
    "    for g in benchmarks:\n",
    "        df4.append(df[g])\n",
    "        name= str(g)\n",
    "        df5[name]=df[g]\n",
    "    \n",
    "    corr_matrix = df5.corr()\n",
    "    print(\"The correlations of zero-coupon bonds\")\n",
    "    display(corr_matrix)\n",
    "    \n",
    "    volatility = []\n",
    "    for col in benchmarks:\n",
    "        volatility.append(df[col].std())\n",
    "\n",
    "    sigmadiag= np.diag(volatility)\n",
    "    main_diag = PV * np.array(alpha1_row)\n",
    "    off_diag = (PV - main_diag)\n",
    "    \n",
    "    storage = [ [] for i in range(len(columndf)) ]\n",
    "    columndff= np.array(columndf)\n",
    "    for l,r,b1,b2 in zip(main_diag, off_diag, bench1, bench2):\n",
    "        storage[int(np.where(columndff==b1)[0])].append(l)\n",
    "        storage[int(np.where(columndff==b2)[0])].append(r)\n",
    "        \n",
    "    B3= []\n",
    "    B4= []\n",
    "    for k in storage:\n",
    "        if not k:\n",
    "            pass\n",
    "        else:\n",
    "            B3.append(sum(k))\n",
    "            B4.append(round(sum(k),2))\n",
    "            \n",
    "    B = np.array(np.transpose(B3))\n",
    "    sigma_p = np.sqrt(np.matmul(np.matmul(np.transpose(np.matmul(sigmadiag, B)),corr_matrix),np.matmul(sigmadiag,B)))\n",
    "    quantile = NormalDist().inv_cdf(p/100)\n",
    "    var = np.sqrt(d) * sigma_p * quantile\n",
    "    \n",
    "    #These are not generalized.\n",
    "    #This only gives what is being asked in Question D.\n",
    "    dfv= pd.DataFrame()\n",
    "    dfv[\"Volatility\"]=np.transpose(volatility)\n",
    "    dfv[\"Benchmark PV\"]= B4\n",
    "    dfv.rename(index = {0:30, 1:90, 2:180, 3:360, \n",
    "                        4:720, 5:1080, 6:1440, 7:1800},inplace = True)\n",
    "    print(\"Volatility and PVs of Benchmark Tenors\")\n",
    "    display(dfv)\n",
    "    \n",
    "    dfa= pd.DataFrame()\n",
    "    dfa[\"alpha1\"]=np.transpose(alpha1_row)\n",
    "    dfa[\"alpha2\"]=np.transpose(1-np.array(alpha1_row))\n",
    "    dfa.rename(index = {0:\"30-90\", 1:\"180-360\", 2:\"360-720\", 3:\"360-720\", \n",
    "                        4:\"720-1080\"},inplace = True)\n",
    "    print(\"Weights for each CF\")\n",
    "    display(round(dfa,10))\n",
    "    \n",
    "    return round(var,2) "
   ]
  },
  {
   "cell_type": "markdown",
   "id": "bc9c54bd-456f-4b62-bfb9-456ccc733e57",
   "metadata": {},
   "source": [
    "6. `undiversified_VaR_delta_normal_bonds()`\n",
    "        - Returns the undiversified d-day p% VaR of a portfolio of bonds using the Delta-Normal Approach"
   ]
  },
  {
   "cell_type": "code",
   "execution_count": 10,
   "id": "33ca22bc-c297-461c-8224-c44e36f07935",
   "metadata": {},
   "outputs": [],
   "source": [
    "def undiversified_d_day_p_percent_VaR_delta_normal_bonds(df, d, p, \n",
    "    face_value_lst, start_date, maturity_date_lst, coupon_rate_lst, \n",
    "    coupon_freq_lst\n",
    "):\n",
    "    \"\"\"\n",
    "    Inputs:\n",
    "    -------\n",
    "    df   :  pandas.DataFrame\n",
    "       assumes the dates are arranged from newest to oldest, and the date today is the date on the first row\n",
    "       assumes that Date is in the first columns while other columns are each bond's yield\n",
    "       assumes that yields are in percentage (i.e. if the yield in decimal 0.05, the value in df must be 5.0)\n",
    "    d    : int\n",
    "       the value to be used in calculating the d-day VaR (e.g. 1-day, 5-day)\n",
    "    p    : int\n",
    "       the value to be used in calculating the p% VaR (e.g. 99, 95)\n",
    "    \n",
    "    face_value_lst     : float\n",
    "                     list of quantity or par value of each bond\n",
    "                     assume that the order is the same as the order of the bonds in the df\n",
    "    start_date         : start date in \"yyyy-mm-dd\" format (usually today)\n",
    "    maturity_date_lst  : list of maturity date in of each bond in \"yyyy-mm-dd\" format\n",
    "                     assume assume that the order is the same as the order of the bonds in the df\n",
    "    coupon_rate_lst    : float \n",
    "                     list of coupon rate in decimal form (e.g. 0.067, 0.07, 0.09, etc0\n",
    "                     assume that the order is the same as the order of the bonds in the df\n",
    "    coupon_freq_lst    : int\n",
    "                     list of number of coupon payments every year\n",
    "                     1 for annual , 2 for semiannual , 4 for quarterly, 12 for monthly\n",
    "                     asssume that the order is the same as the order of the bonds in the df\n",
    "    Returns\n",
    "    -------\n",
    "    float (2 decimal places)\n",
    "        d-day 100p% undiversified VaR of the porfolio consisting of bonds using Delta Normal Approach\n",
    "    \"\"\"\n",
    "    \n",
    "    #create the list of ytm for the DV01 computation\n",
    "    ytm_lst= np.array(Bond_portC.iloc[0:1,1:].values.flatten().tolist())/100\n",
    "\n",
    "    #solve for the DV01 of each bobond\n",
    "    DV01_lst = []\n",
    "    for face_value, maturity_date, coupon_rate, coupon_freq, ytm in zip(face_value_lst,maturity_date_lst,coupon_rate_lst,coupon_freq_lst,ytm_lst):\n",
    "        dv01 = get_DV01(start_date, maturity_date, face_value, coupon_rate, coupon_freq, ytm)\n",
    "        DV01_lst.append(dv01)\n",
    "        \n",
    "    #create a df of log(returns) of yields of each bond\n",
    "    for column in df:\n",
    "        df_shifted    = df.shift(-d)\n",
    "        df_logreturns = np.log(df.iloc[:,1:]/df_shifted.iloc[:,1:])\n",
    "        df_std        = np.array(df_logreturns.std())\n",
    "        \n",
    "    quantile = NormalDist().inv_cdf(p/100)\n",
    "\n",
    "    VaR =np.nansum(100**2 * df_std * DV01_lst * ytm_lst * quantile)\n",
    "    \n",
    "    return round(VaR,2)"
   ]
  },
  {
   "cell_type": "markdown",
   "id": "95aabc51-ca63-4612-b42a-3bac6477304c",
   "metadata": {},
   "source": [
    "7. `diversified_VaR_delta_normal_bonds()`\n",
    "        - Returns the diversified d-day p% VaR of a portfolio of bonds using the Delta-Normal Approach"
   ]
  },
  {
   "cell_type": "code",
   "execution_count": 11,
   "id": "db6f59c5-a020-493d-8320-3e35e58a8d35",
   "metadata": {},
   "outputs": [],
   "source": [
    "def diversified_d_day_p_percent_VaR_delta_normal_bonds(df, d, p, \n",
    "    face_value_lst, start_date, maturity_date_lst, \n",
    "    coupon_rate_lst, coupon_freq_lst\n",
    "):\n",
    "    \"\"\"\n",
    "    Inputs:\n",
    "    -------\n",
    "    df   :  pandas.DataFrame\n",
    "       assumes the dates are arranged from newest to oldest, and the date today is the date on the first row\n",
    "       assumes that Date is in the first columns while other columns are each bond's yield\n",
    "       assumes that yields are in percentage (i.e. if the yield in decimal 0.05, the value in df must be 5.0)\n",
    "    d    : int\n",
    "       the value to be used in calculating the d-day VaR (e.g. 1-day, 5-day)\n",
    "    p    : int\n",
    "       the value to be used in calculating the p% VaR (e.g. 99, 95)\n",
    "    \n",
    "    face_value_lst     : float\n",
    "                     list of quantity or par value of each bond\n",
    "                     assume that the order is the same as the order of the bonds in the df\n",
    "    start_date         : start date in \"yyyy-mm-dd\" format (usually today)\n",
    "    maturity_date_lst  : list of maturity date in of each bond in \"yyyy-mm-dd\" format\n",
    "                     assume assume that the order is the same as the order of the bonds in the df\n",
    "    coupon_rate_lst    : float \n",
    "                     list of coupon rate in decimal form (e.g. 0.067, 0.07, 0.09, etc0\n",
    "                     assume that the order is the same as the order of the bonds in the df\n",
    "    coupon_freq_lst    : int\n",
    "                     list of number of coupon payments every year \n",
    "                     1 for annual , 2 for semiannual , 4 for quarterly, 12 for monthly\n",
    "                     asssume that the order is the same as the order of the bonds in the df\n",
    "    Returns\n",
    "    -------\n",
    "    float (2 decimal places)\n",
    "        d-day 100p% diversified VaR of the porfolio consisting of bonds using Delta Normal Approach\n",
    "    \"\"\"\n",
    "    \n",
    "    #create the list of ytm for the DV01 computation\n",
    "    ytm_lst= np.array(Bond_portC.iloc[0:1,1:].values.flatten().tolist())/100\n",
    "    \n",
    "    #solve for the DV01 of each bobond\n",
    "    DVO1_lst = []\n",
    "    for face_value, maturity_date, coupon_rate, coupon_freq, ytm in zip(face_value_lst,maturity_date_lst,coupon_rate_lst,coupon_freq_lst,ytm_lst):\n",
    "        dv01 = get_DV01(start_date, maturity_date, face_value, coupon_rate, coupon_freq, ytm)\n",
    "        DVO1_lst.append(dv01)\n",
    "    \n",
    "    #create the alpha row matrix\n",
    "    alpha = 100**2 * np.array(DVO1_lst) * np.array(ytm_lst)\n",
    "    \n",
    "    #create a matrix for the log-returns of the yield of the bond\n",
    "    for column in df:\n",
    "        df_shifted    =df.shift(-d)\n",
    "        df_logreturns =np.log(df.iloc[:,1:]/df_shifted.iloc[:,1:]).dropna()\n",
    "        sigmas        =df_logreturns.to_numpy().transpose()\n",
    "    \n",
    "    #create the covariance-variance matrix for the log-returns\n",
    "    covm = np.cov(np.array(sigmas))\n",
    "    quantile = NormalDist().inv_cdf(p/100)  \n",
    "    sigmap = np.sqrt(np.matmul(np.matmul(alpha,covm),np.transpose(alpha)))\n",
    "    \n",
    "    var = sigmap * quantile\n",
    "    \n",
    "    return round(var,2)"
   ]
  },
  {
   "cell_type": "markdown",
   "id": "17029901-7639-42bb-950c-8c18ac784438",
   "metadata": {},
   "source": [
    "8. `VaR_hs_bonds()`\n",
    "        - Returns the d-day p% VaR of a portfolio of bonds using the Historical Simulation Approach"
   ]
  },
  {
   "cell_type": "code",
   "execution_count": 14,
   "id": "6f4a8eee-786e-4670-85a1-f637cd228e9e",
   "metadata": {},
   "outputs": [],
   "source": [
    "def VaR_hs_bonds(df,d,p,start_date,maturity_date, face_value, coupon_rate, coupon_freq):\n",
    "    \n",
    "    \"\"\"\n",
    "    Inputs:\n",
    "    -------\n",
    "    df   :  pandas.DataFrame\n",
    "       assumes the dates are arranged from newest to oldest, and the date today is the date on the first row\n",
    "       assumes that Date is in the first columns while other columns are each bond's yield\n",
    "       assumes that yields are in percentage (i.e. if the yield in decimal 0.05, the value in df must be 5.0)\n",
    "    d    : int\n",
    "       the value to be used in calculating the d-day VaR (e.g. 1-day, 5-day)\n",
    "    p    : int\n",
    "       the value to be used in calculating the p% VaR (e.g. 99, 95)\n",
    "    \n",
    "    face_value_lst     : float\n",
    "                     list of quantity or par value of each bond\n",
    "                     assume that the order is the same as the order of the bonds in the df\n",
    "    start_date         : start date in \"yyyy-mm-dd\" format (usually today)\n",
    "    maturity_date_lst  : list of maturity date in of each bond in \"yyyy-mm-dd\" format\n",
    "                     assume assume that the order is the same as the order of the bonds in the df\n",
    "    coupon_rate_lst    : float \n",
    "                     list of coupon rate in decimal form (e.g. 0.067, 0.07, 0.09, etc0\n",
    "                     assume that the order is the same as the order of the bonds in the df\n",
    "    coupon_freq_lst    : int\n",
    "                     list of number of coupon payments every year \n",
    "                     1 for annual , 2 for semiannual , 4 for quarterly, 12 for monthly\n",
    "                     asssume that the order is the same as the order of the bonds in the df\n",
    "    Returns\n",
    "    -------\n",
    "    float (2 decimal places)\n",
    "        d-day 100p% diversified VaR of the porfolio consisting of bonds using Delta Normal Approach\n",
    "    \"\"\"\n",
    "    \n",
    "    #Covert dates into admissible format.\n",
    "    start_date = dt.datetime.strptime(start_date, '%Y-%m-%d')\n",
    "    maturity_date = dt.datetime.strptime(maturity_date, '%Y-%m-%d') \n",
    "    \n",
    "    #Creating the Returns DF\n",
    "    for column in df:\n",
    "        dfa=df.shift(-d) #shifts each column by d\n",
    "        df_ret=np.log(df.iloc[:,1:]/dfa.iloc[:,1:]).dropna() #stores the new set of columns consisting of returns for each bond yield to df_ret\n",
    "       \n",
    "    #Creating a list containing the current yields\n",
    "    yld_today=df.iloc[1,1:].values.flatten().tolist() #creates a list of \n",
    "    \n",
    "    #Creating the Sim Rate DF    \n",
    "    \n",
    "    sim_rate = pd.DataFrame() #Before we create the sim_rate dataframe, we first define an empty dataframe.\n",
    "    for j in range(len(df_ret.axes[1])): \n",
    "        name = str(j) \n",
    "        sim_rate[name] = np.exp((np.array(df_ret.iloc[:,j])))*np.array(yld_today[j]) #Uses the rates in the ret_df dataframe to get the sim rate df\n",
    "      \n",
    "        \n",
    "    #Create list of coupon dates\n",
    "    #The following codes are copied directly from the Bond Valuation file. \n",
    "    coupon_dates = [] \n",
    "    coupon_date = maturity_date\n",
    "\n",
    "    while start_date < coupon_date:\n",
    "        coupon_dates.append(coupon_date)\n",
    "        coupon_date -= (relativedelta(months = 12 / coupon_freq))\n",
    "    \n",
    "    coupon_dates = coupon_dates[::-1] # rearrange dates\n",
    "    \n",
    "    # Create list of time values\n",
    "    times = [get_tenor(start_date, t) for t in coupon_dates]\n",
    "    coupon_dates = []\n",
    "    coupon_date = maturity_date\n",
    "    \n",
    "    while start_date < coupon_date:\n",
    "        coupon_dates.append(coupon_date)\n",
    "        coupon_date -= relativedelta(months = 12 / coupon_freq)\n",
    "    \n",
    "    coupon_dates = coupon_dates[::-1] # rearrange dates\n",
    "    \n",
    "    #Creating number of days\n",
    "    days=[] #We need to create a list containing the days before the next coupon payment\n",
    "    for j in coupon_dates:\n",
    "        day = (j - start_date).days\n",
    "        days.append(day)\n",
    "    \n",
    "    sim_rate.rename(columns={\"0\":30, \"1\":90, \"2\":180,\"3\":360,\"4\":720,\"5\":1080,\"6\":1440,\"7\":1800,}, inplace = True) #Renames the column names of the sim rate dataframe using the number of days per period\n",
    "    \n",
    "    #Appending the current yields as the first row in sim rate DF\n",
    "    sim_rate.loc[-1] = yld_today #Appends the yld_today list as the top row of the sim_rate dataframe\n",
    "    sim_rate.index = sim_rate.index + 1\n",
    "    sim_rate.sort_index(inplace=True)\n",
    "    \n",
    "    \n",
    "    #Interpolating\n",
    "    df_interp=pd.DataFrame() #Again, we define first an empty dataframe that will later contain the sim rates and the interpolated data\n",
    "    col0 = sim_rate.columns #Calls the column names of sim_rate and stores it in a list called col0\n",
    "    \n",
    "    for k in days: #To perform interpolation, we compare the days remaining until next coupon payment  \n",
    "        i = 0      #to the existing number of days in the data. \n",
    "        while col0[i] < k: #A While loop is used to compare each existing preenlisted days to each element in the days list.\n",
    "            a,b = col0[i],col0[i+1] #Once an element is deemed lower than the actual days remaining then a new column will be interpolated\n",
    "            i += 1\n",
    "        c = sim_rate[a]\n",
    "        d = sim_rate[b]\n",
    "        e = []   #Define an empty list that will contain the interpolated data.\n",
    "        for x,y in zip(c,d):  #Does an interpolation of the two columns sandwiching the column we want to interpolate.\n",
    "            e.append(linear_interp(k,[a,b],[x,y])) #k is the actual days remaining until next coupon payment and will be the known x in the interpolation\n",
    "        name = str(k)\n",
    "        df_interp[name] = e #Makes the interpolated dataframe using the days as the column names\n",
    "        \n",
    "    #Discounting Factor\n",
    "    r = [] #Again we create an empty list first for storage\n",
    "    for t in range(len(df_interp.axes[1])):\n",
    "        r.append(np.exp((-df_interp.iloc[:,t])*(days[t]/360))) #Raises e to the negative of the intepolated sim rates multiplied to the actual days\n",
    "    dfactor = pd.DataFrame(r).transpose()                      #days until next coupon payment divided by 360.\n",
    "    \n",
    "    #Cash Flows\n",
    "    coupon = (coupon_rate * face_value) / coupon_freq #We will create a list containing the coupon payments\n",
    "    coupon_payments = []\n",
    "    for s in range(len(dfactor.axes[1])): #Uses a for loop to store the usual coupon payment to the list but \n",
    "        coupon_payments.append(coupon) \n",
    "    h = len(dfactor.axes[1])-1\n",
    "    coupon_payments[h]=coupon + face_value #Adds the face_value to the last coupon payment\n",
    "    \n",
    "    v = []\n",
    "    for u in range(len(dfactor.axes[1])):\n",
    "        v.append((dfactor.iloc[:,u])*(coupon_payments[u])) #We then get the cash flows by multiplying each column in the df_interp by the corresponding\n",
    "    CashFlows = pd.DataFrame(v).transpose()                 #coupon payment per column\n",
    "    \n",
    "    #Getting the sum of cash flows per scenario\n",
    "    \n",
    "    P = CashFlows.sum(axis=1) #Code for getting the sum of each column\n",
    "    small = np.floor((1-(0.01*p))*(len(df_ret.axes[0]))) #We get the floor of the total number of scenario multiplied to the 1-p(0.01) where p is the inputted percentage VAR.\n",
    "    deltaP=pd.DataFrame(P.loc[1:]-P.loc[0]).astype(float) #We get the deltaP column by deducting the first row which is the P today from the P's in the previous scenario.\n",
    "\n",
    "    VaR = abs(deltaP[0].sort_values(ignore_index=True)[small-1]) #Stores in VaR the smallest (small is an integer) data after sorting the deltaP's\n",
    "    \n",
    "    print(\"Possible zero rates 10 days from now for the relevant tenors\")\n",
    "    display(df_interp)\n",
    "    \n",
    "    return round(VaR,2)"
   ]
  },
  {
   "cell_type": "markdown",
   "id": "ec493826-af18-4676-90e7-9a4da34251a1",
   "metadata": {},
   "source": [
    "### PART 2: VALIDATION"
   ]
  },
  {
   "cell_type": "code",
   "execution_count": 15,
   "id": "3caffa82-da3c-4700-b40a-35b8f5429eba",
   "metadata": {},
   "outputs": [],
   "source": [
    "EURUSD = pd.read_csv(\"https://raw.githubusercontent.com/aengusmartindonaire/Project-1/main/data/EURUSD.csv\")\n",
    "GBPUSD = pd.read_csv(\"https://raw.githubusercontent.com/aengusmartindonaire/Project-1/main/data/GBPUSD.csv\")\n",
    "USDCHF = pd.read_csv(\"https://raw.githubusercontent.com/aengusmartindonaire/Project-1/main/data/USDCHF.csv\")\n",
    "USDJPY = pd.read_csv(\"https://raw.githubusercontent.com/aengusmartindonaire/Project-1/main/data/USDJPY.csv\")\n",
    "USDPHP = pd.read_csv(\"https://raw.githubusercontent.com/aengusmartindonaire/Project-1/main/data/USDPHP.csv\")"
   ]
  },
  {
   "cell_type": "code",
   "execution_count": 16,
   "id": "6677a810-f87f-4714-890f-32c4eb587fd4",
   "metadata": {},
   "outputs": [],
   "source": [
    "def convert_currencies(df_lst):\n",
    "    \"\"\"\n",
    "    Note: This helper function converts currencies to make the PHP the quote price.\n",
    "    ------\n",
    "     df_lst : list of pandas.DataFrame \n",
    "          each df has Date on the first column and Mid quote on the second column\n",
    "          assumes the dates are arranged from newest to oldest, and the date today is the date on the first row\n",
    "    \n",
    "    Returns:\n",
    "    -------\n",
    "    df's (pandas.DataFrame)\n",
    "        df of currencies where the first column is the Date and the second column is the Mid quote\n",
    "        PHP is the quote price\n",
    "    \"\"\"    \n",
    "    #Conversion of each currency to currency where PHP is the quote currency\n",
    "    USDPHP = np.array(df_lst[4][\"Mid\"])\n",
    "    EURPHP = np.array(df_lst[4][\"Mid\"])*np.array(df_lst[0][\"Mid\"])\n",
    "    GBPPHP = np.array(df_lst[4][\"Mid\"])*np.array(df_lst[1][\"Mid\"])\n",
    "    CHFPHP = np.array(df_lst[4][\"Mid\"])/np.array(df_lst[2][\"Mid\"])\n",
    "    JPYPHP = np.array(df_lst[4][\"Mid\"])/np.array(df_lst[3][\"Mid\"])\n",
    "    \n",
    "    #Making of dataframe for each converted currency\n",
    "    dfUSD = pd.DataFrame({'Date' : df_lst1[0].iloc[:,0]})\n",
    "    dfUSD.loc[:,\"Mid\"] = USDPHP\n",
    "    \n",
    "    dfJPY = pd.DataFrame({'Date' : df_lst1[0].iloc[:,0]})\n",
    "    dfJPY.loc[:,\"Mid\"] = JPYPHP\n",
    "    \n",
    "    dfEUR = pd.DataFrame({'Date' : df_lst1[0].iloc[:,0]})\n",
    "    dfEUR.loc[:,\"Mid\"] = EURPHP\n",
    "    \n",
    "    dfGBP = pd.DataFrame({'Date' : df_lst1[0].iloc[:,0]})\n",
    "    dfGBP.loc[:,\"Mid\"] = GBPPHP\n",
    "    \n",
    "    dfCHF = pd.DataFrame({'Date' : df_lst1[0].iloc[:,0]})\n",
    "    dfCHF.loc[:,\"Mid\"] = CHFPHP\n",
    "     \n",
    "    return dfUSD, dfEUR, dfJPY, dfGBP, dfCHF "
   ]
  },
  {
   "cell_type": "code",
   "execution_count": 17,
   "id": "43baa5b2-77bc-4bcf-a0f4-5abe445a1d9f",
   "metadata": {},
   "outputs": [],
   "source": [
    "#the df_lst of currencies\n",
    "df_lst1 = [EURUSD, GBPUSD, USDCHF, USDJPY, USDPHP]\n",
    "\n",
    "#assigning of names for the df with PHP as the quote currency\n",
    "USDPHP,EURPHP,JPYPHP,GBPPHP,CHFPHP = convert_currencies(df_lst1)"
   ]
  },
  {
   "cell_type": "markdown",
   "id": "fbb81462-fe3a-43fe-b6bb-91794c28c1c3",
   "metadata": {},
   "source": [
    "### Question A"
   ]
  },
  {
   "cell_type": "code",
   "execution_count": 18,
   "id": "a08119bf-acac-4a18-b9d8-0d4229ff4fa4",
   "metadata": {},
   "outputs": [],
   "source": [
    "#Portfolio A \n",
    "\n",
    "FX_portA = [ USDPHP, EURPHP, JPYPHP, GBPPHP, CHFPHP ]\n",
    "F_lstA   = [11362, -16135, 2234128, -14568, 9274]"
   ]
  },
  {
   "cell_type": "code",
   "execution_count": 19,
   "id": "b646c4dc-7952-4cc9-a7c9-a0e501cdf0e6",
   "metadata": {},
   "outputs": [
    {
     "name": "stdout",
     "output_type": "stream",
     "text": [
      "The one-day 99\\% undiversified VaR of portfolio A using the delta-normal approach is 52,854.37.\n"
     ]
    }
   ],
   "source": [
    "A1 = undiversified_d_day_p_percent_VaR_delta_normal_fx(df_lst=FX_portA, F_lst=F_lstA, d=1, p=99, ewma_par_lst=None)\n",
    "\n",
    "print(f\"The one-day 99\\% undiversified VaR of portfolio A using the delta-normal approach is {format(A1,',')}.\")"
   ]
  },
  {
   "cell_type": "code",
   "execution_count": 20,
   "id": "8a3d94c4-2464-4917-a200-53a607b238cb",
   "metadata": {},
   "outputs": [
    {
     "name": "stdout",
     "output_type": "stream",
     "text": [
      "The one-day 99\\% diversified VaR of portfolio A using the delta-normal approach is 21,887.22.\n"
     ]
    }
   ],
   "source": [
    "A2 = diversified_d_day_p_percent_VaR_delta_normal_fx(df_lst=FX_portA, F_lst=F_lstA, d=1, p=99, ewma_par_lst=None)\n",
    "\n",
    "print(f\"The one-day 99\\% diversified VaR of portfolio A using the delta-normal approach is {format(A2,',')}.\")"
   ]
  },
  {
   "cell_type": "code",
   "execution_count": 21,
   "id": "ce9777ba-bf8e-4e6e-a647-13bf904b3d58",
   "metadata": {},
   "outputs": [
    {
     "name": "stdout",
     "output_type": "stream",
     "text": [
      "The benefit of diversification is 30,967.15.\n"
     ]
    }
   ],
   "source": [
    "BoDiver = round(A1 - A2,2)\n",
    "\n",
    "print(f\"The benefit of diversification is {format(BoDiver,',')}.\")"
   ]
  },
  {
   "cell_type": "code",
   "execution_count": 22,
   "id": "814cadb2-7046-4588-a62d-2ecf810fa77f",
   "metadata": {},
   "outputs": [
    {
     "name": "stdout",
     "output_type": "stream",
     "text": [
      "The one-day 99\\% VaR of portfolio A using the HISTORICAL approach is 24,221.08.\n"
     ]
    }
   ],
   "source": [
    "A22 = VaR_hs_fx(\n",
    "    df_lst= FX_portA, \n",
    "    F_lst= F_lstA, \n",
    "    d=1, p= 99)\n",
    "print(f\"The one-day 99\\% VaR of portfolio A using the HISTORICAL approach is {format(A22,',')}.\")"
   ]
  },
  {
   "cell_type": "code",
   "execution_count": 23,
   "id": "5ec6c2d0-82ba-423b-a341-8c0388a5c704",
   "metadata": {},
   "outputs": [
    {
     "name": "stdout",
     "output_type": "stream",
     "text": [
      "The one-day 99\\% VaR of portfolio A using the BRW approach is 7,339.21.\n"
     ]
    }
   ],
   "source": [
    "A33 = VaR_brw_fx(\n",
    "    df_lst = FX_portA, \n",
    "    F_lst  = F_lstA, \n",
    "    d =1,p = 99, decay_par = 0.8)\n",
    "\n",
    "print(f\"The one-day 99\\% VaR of portfolio A using the BRW approach is {format(A33,',')}.\")"
   ]
  },
  {
   "cell_type": "markdown",
   "id": "9fd03192-837f-45e3-92e7-151546b280d3",
   "metadata": {},
   "source": [
    "### Question B"
   ]
  },
  {
   "cell_type": "code",
   "execution_count": 24,
   "id": "96f1a461-d56e-4f3f-b2bd-130f4590fa5a",
   "metadata": {},
   "outputs": [],
   "source": [
    "#Portfolio B \n",
    "\n",
    "FX_portB = [ EURPHP, JPYPHP ] \n",
    "F_lstB   = [ -16135, 2234128 ]"
   ]
  },
  {
   "cell_type": "code",
   "execution_count": 25,
   "id": "5d6a1d13-4aad-479f-807c-0e20f72008b2",
   "metadata": {},
   "outputs": [
    {
     "name": "stdout",
     "output_type": "stream",
     "text": [
      "The five-day 99\\% undiversified VaR of portfolio B using the delta-normal approach (w/ EWMA) is 23,403.85.\n"
     ]
    }
   ],
   "source": [
    "A3 = undiversified_d_day_p_percent_VaR_delta_normal_fx(\n",
    "    df_lst=FX_portB, \n",
    "    F_lst=F_lstB, \n",
    "    d=5, p=95, \n",
    "    ewma_par_lst=[0.87,0.90])\n",
    "\n",
    "print(f\"The five-day 99\\% undiversified VaR of portfolio B using the delta-normal approach (w/ EWMA) is {format(A3,',')}.\")"
   ]
  },
  {
   "cell_type": "code",
   "execution_count": 26,
   "id": "131120cf-4d6c-48cb-b8b0-c478648f7e54",
   "metadata": {},
   "outputs": [
    {
     "name": "stdout",
     "output_type": "stream",
     "text": [
      "The five-day 99\\% diversified VaR of portfolio B using the delta-normal approach (w/ EWMA) is 9,870.16.\n"
     ]
    }
   ],
   "source": [
    "A4 = diversified_d_day_p_percent_VaR_delta_normal_fx(\n",
    "    df_lst=FX_portB,\n",
    "    F_lst=F_lstB,\n",
    "    d=5, p=95,\n",
    "    ewma_par_lst=[0.87,0.90],\n",
    "    covar_ewma_par = 0.8 )\n",
    "\n",
    "print(f\"The five-day 99\\% diversified VaR of portfolio B using the delta-normal approach (w/ EWMA) is {format(A4,',')}.\")"
   ]
  },
  {
   "cell_type": "code",
   "execution_count": 27,
   "id": "28952c0b-e9ad-4cad-94d7-5f5e3c08fd1f",
   "metadata": {},
   "outputs": [
    {
     "name": "stdout",
     "output_type": "stream",
     "text": [
      "The benefit of diversification amounts to 13,533.69.\n"
     ]
    }
   ],
   "source": [
    "BoDiver2 = round(A3 - A4,2)\n",
    "\n",
    "print(f\"The benefit of diversification amounts to {format(BoDiver2,',')}.\")"
   ]
  },
  {
   "cell_type": "markdown",
   "id": "514e36a8-812c-419d-9bb1-ddecf025225c",
   "metadata": {},
   "source": [
    "### Question C"
   ]
  },
  {
   "cell_type": "code",
   "execution_count": 28,
   "id": "2952114d-7315-4482-919e-c706a0d1732d",
   "metadata": {},
   "outputs": [],
   "source": [
    "#Porfolio_C_Yield_Data\n",
    "\n",
    "Bond_portC = pd.read_csv(\"https://raw.githubusercontent.com/aengusmartindonaire/Project-1/main/data/portfolio_c_yield_data.csv\")"
   ]
  },
  {
   "cell_type": "code",
   "execution_count": 29,
   "id": "5e8b728e-578c-4e81-95ce-6f31e113fba3",
   "metadata": {
    "tags": []
   },
   "outputs": [
    {
     "name": "stdout",
     "output_type": "stream",
     "text": [
      "Table 1. Dv01 Of Each Bond\n",
      "╒════════╤═════════════╤═════════════╤═════════╤═════════╕\n",
      "│ Bond   │   Roquefort │   Camembert │    Feta │   Gouda │\n",
      "╞════════╪═════════════╪═════════════╪═════════╪═════════╡\n",
      "│ DV01   │     453.713 │     66.6719 │ 861.159 │ 500.733 │\n",
      "╘════════╧═════════════╧═════════════╧═════════╧═════════╛\n"
     ]
    }
   ],
   "source": [
    "ytm_lst= np.array(Bond_portC.iloc[0:1,1:].values.flatten().tolist())/100\n",
    "\n",
    "face_value_lst    = [1000000,1000000,1000000,1000000] \n",
    "start_date        = \"2022-10-03\"\n",
    "maturity_date_lst = [\"2027-12-31\",\"2023-06-01\",\"2035-01-15\",\"2030-09-28\"]\n",
    "coupon_rate_lst   = [0.08,0.075,0.06,0]\n",
    "coupon_freq_lst   = [1,2,4,0]\n",
    "\n",
    "DV01_lst = [\"DV01\",]\n",
    "for face_value, maturity_date, coupon_rate, coupon_freq, ytm in zip(face_value_lst,maturity_date_lst,coupon_rate_lst,coupon_freq_lst,ytm_lst):\n",
    "    dv01 = get_DV01(start_date, maturity_date, face_value, coupon_rate, coupon_freq, ytm)\n",
    "    DV01_lst.append(dv01)\n",
    "\n",
    "bond_names =  [\"Bond\",\"Roquefort\",\"Camembert\",\"Feta\",\"Gouda\"]\n",
    "data       =  [DV01_lst]\n",
    "print(\"Table 1. DV01 of Each Bond\".title())\n",
    "print(tabulate(data,headers=bond_names,tablefmt=\"fancy_grid\"))"
   ]
  },
  {
   "cell_type": "code",
   "execution_count": 30,
   "id": "82fff5cf-467c-4e94-82ca-e1b40d1ad86b",
   "metadata": {
    "tags": []
   },
   "outputs": [
    {
     "name": "stdout",
     "output_type": "stream",
     "text": [
      "The ten-day 99\\% undiversified VaR of portfolio C using the delta-normal approach is 40,764.21.\n"
     ]
    }
   ],
   "source": [
    "C1 =undiversified_d_day_p_percent_VaR_delta_normal_bonds(\n",
    "    Bond_portC, d=10, p= 99, \n",
    "    face_value_lst=[1000000,1000000,1000000,1000000], \n",
    "    start_date=\"2022-10-03\", \n",
    "    maturity_date_lst=[\"2027-12-31\",\"2023-06-01\",\"2035-01-15\",\"2030-09-28\"], \n",
    "    coupon_rate_lst=[0.08,0.075,0.06,0],\n",
    "    coupon_freq_lst=[1,2,4,0])\n",
    "\n",
    "print(f\"The ten-day 99\\% undiversified VaR of portfolio C using the delta-normal approach is {format(C1,',')}.\")"
   ]
  },
  {
   "cell_type": "code",
   "execution_count": 31,
   "id": "757504bf-d0df-49ad-9697-15b1077aa2cb",
   "metadata": {
    "tags": []
   },
   "outputs": [
    {
     "name": "stdout",
     "output_type": "stream",
     "text": [
      "The ten-day 99\\% diversified VaR of portfolio C using the delta-normal approach is 39,582.6.\n"
     ]
    }
   ],
   "source": [
    "C2 =diversified_d_day_p_percent_VaR_delta_normal_bonds(\n",
    "    Bond_portC, d=10, p= 99,\n",
    "    face_value_lst=[1000000,1000000,1000000,1000000], \n",
    "    start_date=\"2022-10-03\",\n",
    "    maturity_date_lst=[\"2027-12-31\",\"2023-06-01\",\"2035-01-15\",\"2030-09-28\"], \n",
    "    coupon_rate_lst=[0.08,0.075,0.06,0],\n",
    "    coupon_freq_lst=[1,2,4,0])\n",
    "\n",
    "print(f\"The ten-day 99\\% diversified VaR of portfolio C using the delta-normal approach is {format(C2,',')}.\")"
   ]
  },
  {
   "cell_type": "code",
   "execution_count": 32,
   "id": "04f4dbd4-9139-40d2-8acd-257cc8862c4b",
   "metadata": {
    "tags": []
   },
   "outputs": [
    {
     "name": "stdout",
     "output_type": "stream",
     "text": [
      "The benefit of diversification amounts to 1,181.61.\n"
     ]
    }
   ],
   "source": [
    "BoDiver3= round(C1-C2,2)\n",
    "\n",
    "print(f\"The benefit of diversification amounts to {format(BoDiver3,',')}.\")"
   ]
  },
  {
   "cell_type": "markdown",
   "id": "9f5e4254-a5bf-4b19-a45d-d85534a3bce2",
   "metadata": {},
   "source": [
    "### Question D"
   ]
  },
  {
   "cell_type": "markdown",
   "id": "fa0b261f-95ae-474d-b68d-e25a099ad69e",
   "metadata": {},
   "source": [
    "## Question D\n",
    "Assume that today is October 3, 2022. Suppose market risk metrics are requested for **Portfolio D** consisting solely of a peso-denominated bond corporate bond with a principal of Php 10,000,000 and with maturity date on December 31, 2024. Suppose that the bond provides a coupon of 10% per annum payable semiannually.\n",
    "\n",
    "The historical continuously-compounded zero rates for benchmark tenors are provided in `portfolio_d_zero_rate_data.csv`.\n",
    "\n",
    "### Historical Simulation Approach\n",
    "1. Generate possible zero rates 10 days from now for the relevant tenors and determine the portfolio's 10-day 99% VaR using the historical simulation approach."
   ]
  },
  {
   "cell_type": "code",
   "execution_count": 33,
   "id": "e09c3c9c-2089-4923-bd5f-2695da0e8115",
   "metadata": {},
   "outputs": [],
   "source": [
    "portD=pd.read_csv(\"https://raw.githubusercontent.com/aengusmartindonaire/Project-1/main/data/portfolio_d_zero_rate_data2.csv\")"
   ]
  },
  {
   "cell_type": "code",
   "execution_count": 34,
   "id": "21664b1a-eb2c-4158-83ed-9f813ffee320",
   "metadata": {},
   "outputs": [
    {
     "name": "stdout",
     "output_type": "stream",
     "text": [
      "Possible zero rates 10 days from now for the relevant tenors\n"
     ]
    },
    {
     "data": {
      "text/html": [
       "<div>\n",
       "<style scoped>\n",
       "    .dataframe tbody tr th:only-of-type {\n",
       "        vertical-align: middle;\n",
       "    }\n",
       "\n",
       "    .dataframe tbody tr th {\n",
       "        vertical-align: top;\n",
       "    }\n",
       "\n",
       "    .dataframe thead th {\n",
       "        text-align: right;\n",
       "    }\n",
       "</style>\n",
       "<table border=\"1\" class=\"dataframe\">\n",
       "  <thead>\n",
       "    <tr style=\"text-align: right;\">\n",
       "      <th></th>\n",
       "      <th>88</th>\n",
       "      <th>270</th>\n",
       "      <th>453</th>\n",
       "      <th>636</th>\n",
       "      <th>820</th>\n",
       "    </tr>\n",
       "  </thead>\n",
       "  <tbody>\n",
       "    <tr>\n",
       "      <th>0</th>\n",
       "      <td>0.057256</td>\n",
       "      <td>0.060580</td>\n",
       "      <td>0.060258</td>\n",
       "      <td>0.058758</td>\n",
       "      <td>0.057978</td>\n",
       "    </tr>\n",
       "    <tr>\n",
       "      <th>1</th>\n",
       "      <td>0.057015</td>\n",
       "      <td>0.061310</td>\n",
       "      <td>0.061239</td>\n",
       "      <td>0.059630</td>\n",
       "      <td>0.058591</td>\n",
       "    </tr>\n",
       "    <tr>\n",
       "      <th>2</th>\n",
       "      <td>0.057015</td>\n",
       "      <td>0.061310</td>\n",
       "      <td>0.061239</td>\n",
       "      <td>0.059630</td>\n",
       "      <td>0.058591</td>\n",
       "    </tr>\n",
       "    <tr>\n",
       "      <th>3</th>\n",
       "      <td>0.056865</td>\n",
       "      <td>0.061325</td>\n",
       "      <td>0.061347</td>\n",
       "      <td>0.059948</td>\n",
       "      <td>0.058826</td>\n",
       "    </tr>\n",
       "    <tr>\n",
       "      <th>4</th>\n",
       "      <td>0.057066</td>\n",
       "      <td>0.061371</td>\n",
       "      <td>0.061377</td>\n",
       "      <td>0.060097</td>\n",
       "      <td>0.058949</td>\n",
       "    </tr>\n",
       "    <tr>\n",
       "      <th>...</th>\n",
       "      <td>...</td>\n",
       "      <td>...</td>\n",
       "      <td>...</td>\n",
       "      <td>...</td>\n",
       "      <td>...</td>\n",
       "    </tr>\n",
       "    <tr>\n",
       "      <th>270</th>\n",
       "      <td>0.062870</td>\n",
       "      <td>0.078330</td>\n",
       "      <td>0.076855</td>\n",
       "      <td>0.064514</td>\n",
       "      <td>0.058389</td>\n",
       "    </tr>\n",
       "    <tr>\n",
       "      <th>271</th>\n",
       "      <td>0.061522</td>\n",
       "      <td>0.065697</td>\n",
       "      <td>0.065923</td>\n",
       "      <td>0.061046</td>\n",
       "      <td>0.058422</td>\n",
       "    </tr>\n",
       "    <tr>\n",
       "      <th>272</th>\n",
       "      <td>0.063220</td>\n",
       "      <td>0.065373</td>\n",
       "      <td>0.063766</td>\n",
       "      <td>0.059661</td>\n",
       "      <td>0.057929</td>\n",
       "    </tr>\n",
       "    <tr>\n",
       "      <th>273</th>\n",
       "      <td>0.057428</td>\n",
       "      <td>0.058895</td>\n",
       "      <td>0.051509</td>\n",
       "      <td>0.056524</td>\n",
       "      <td>0.058446</td>\n",
       "    </tr>\n",
       "    <tr>\n",
       "      <th>274</th>\n",
       "      <td>0.054900</td>\n",
       "      <td>0.066379</td>\n",
       "      <td>0.065107</td>\n",
       "      <td>0.060382</td>\n",
       "      <td>0.058731</td>\n",
       "    </tr>\n",
       "  </tbody>\n",
       "</table>\n",
       "<p>275 rows × 5 columns</p>\n",
       "</div>"
      ],
      "text/plain": [
       "           88       270       453       636       820\n",
       "0    0.057256  0.060580  0.060258  0.058758  0.057978\n",
       "1    0.057015  0.061310  0.061239  0.059630  0.058591\n",
       "2    0.057015  0.061310  0.061239  0.059630  0.058591\n",
       "3    0.056865  0.061325  0.061347  0.059948  0.058826\n",
       "4    0.057066  0.061371  0.061377  0.060097  0.058949\n",
       "..        ...       ...       ...       ...       ...\n",
       "270  0.062870  0.078330  0.076855  0.064514  0.058389\n",
       "271  0.061522  0.065697  0.065923  0.061046  0.058422\n",
       "272  0.063220  0.065373  0.063766  0.059661  0.057929\n",
       "273  0.057428  0.058895  0.051509  0.056524  0.058446\n",
       "274  0.054900  0.066379  0.065107  0.060382  0.058731\n",
       "\n",
       "[275 rows x 5 columns]"
      ]
     },
     "metadata": {},
     "output_type": "display_data"
    },
    {
     "name": "stdout",
     "output_type": "stream",
     "text": [
      "The ten-day 99\\% VaR of portfolio D using the Historical Approach approach is 205,190.06.\n"
     ]
    }
   ],
   "source": [
    "D1 = VaR_hs_bonds(\n",
    "    df= portD, d= 10, p= 99,\n",
    "    start_date    = \"2022-10-03\",\n",
    "    maturity_date = \"2024-12-31\",\n",
    "    face_value  = 10000000,\n",
    "    coupon_rate = 0.10,\n",
    "    coupon_freq = 2)\n",
    "\n",
    "print(f\"The ten-day 99\\% VaR of portfolio D using the Historical Approach approach is {format(D1,',')}.\")"
   ]
  },
  {
   "cell_type": "markdown",
   "id": "17f79587-8afc-49dd-90e0-29af7f06a049",
   "metadata": {},
   "source": [
    "### Cash Flow Mapping\n",
    "1. Estimate the volatilities and correlations of zero-coupon bonds maturing on the benchmark tenors using the given data. Print out the volatilities and the correlation matrix.\n",
    "2. Map the portfolio's cash flows to the benchmark tenors/standard buckets. Print out the weight $\\alpha_i$ for each cash flow.\n",
    "2. Print out the present values of the mapped cash flows at each benchmark tenor/standard bucket.\n",
    "3. Determine the portfolio's 10-day 99% VaR. "
   ]
  },
  {
   "cell_type": "code",
   "execution_count": 35,
   "id": "72b76ba8-543b-4e08-90fe-e887da5532d2",
   "metadata": {},
   "outputs": [
    {
     "name": "stdout",
     "output_type": "stream",
     "text": [
      "The correlations of zero-coupon bonds\n"
     ]
    },
    {
     "data": {
      "text/html": [
       "<div>\n",
       "<style scoped>\n",
       "    .dataframe tbody tr th:only-of-type {\n",
       "        vertical-align: middle;\n",
       "    }\n",
       "\n",
       "    .dataframe tbody tr th {\n",
       "        vertical-align: top;\n",
       "    }\n",
       "\n",
       "    .dataframe thead th {\n",
       "        text-align: right;\n",
       "    }\n",
       "</style>\n",
       "<table border=\"1\" class=\"dataframe\">\n",
       "  <thead>\n",
       "    <tr style=\"text-align: right;\">\n",
       "      <th></th>\n",
       "      <th>30</th>\n",
       "      <th>90</th>\n",
       "      <th>180</th>\n",
       "      <th>360</th>\n",
       "      <th>720</th>\n",
       "      <th>1080</th>\n",
       "    </tr>\n",
       "  </thead>\n",
       "  <tbody>\n",
       "    <tr>\n",
       "      <th>30</th>\n",
       "      <td>1.000000</td>\n",
       "      <td>0.947549</td>\n",
       "      <td>0.905516</td>\n",
       "      <td>0.848283</td>\n",
       "      <td>0.742714</td>\n",
       "      <td>0.703610</td>\n",
       "    </tr>\n",
       "    <tr>\n",
       "      <th>90</th>\n",
       "      <td>0.947549</td>\n",
       "      <td>1.000000</td>\n",
       "      <td>0.946852</td>\n",
       "      <td>0.883770</td>\n",
       "      <td>0.790456</td>\n",
       "      <td>0.759199</td>\n",
       "    </tr>\n",
       "    <tr>\n",
       "      <th>180</th>\n",
       "      <td>0.905516</td>\n",
       "      <td>0.946852</td>\n",
       "      <td>1.000000</td>\n",
       "      <td>0.968016</td>\n",
       "      <td>0.911526</td>\n",
       "      <td>0.881933</td>\n",
       "    </tr>\n",
       "    <tr>\n",
       "      <th>360</th>\n",
       "      <td>0.848283</td>\n",
       "      <td>0.883770</td>\n",
       "      <td>0.968016</td>\n",
       "      <td>1.000000</td>\n",
       "      <td>0.943036</td>\n",
       "      <td>0.911788</td>\n",
       "    </tr>\n",
       "    <tr>\n",
       "      <th>720</th>\n",
       "      <td>0.742714</td>\n",
       "      <td>0.790456</td>\n",
       "      <td>0.911526</td>\n",
       "      <td>0.943036</td>\n",
       "      <td>1.000000</td>\n",
       "      <td>0.975502</td>\n",
       "    </tr>\n",
       "    <tr>\n",
       "      <th>1080</th>\n",
       "      <td>0.703610</td>\n",
       "      <td>0.759199</td>\n",
       "      <td>0.881933</td>\n",
       "      <td>0.911788</td>\n",
       "      <td>0.975502</td>\n",
       "      <td>1.000000</td>\n",
       "    </tr>\n",
       "  </tbody>\n",
       "</table>\n",
       "</div>"
      ],
      "text/plain": [
       "            30        90       180       360       720      1080\n",
       "30    1.000000  0.947549  0.905516  0.848283  0.742714  0.703610\n",
       "90    0.947549  1.000000  0.946852  0.883770  0.790456  0.759199\n",
       "180   0.905516  0.946852  1.000000  0.968016  0.911526  0.881933\n",
       "360   0.848283  0.883770  0.968016  1.000000  0.943036  0.911788\n",
       "720   0.742714  0.790456  0.911526  0.943036  1.000000  0.975502\n",
       "1080  0.703610  0.759199  0.881933  0.911788  0.975502  1.000000"
      ]
     },
     "metadata": {},
     "output_type": "display_data"
    },
    {
     "name": "stdout",
     "output_type": "stream",
     "text": [
      "Volatility and PVs of Benchmark Tenors\n"
     ]
    },
    {
     "data": {
      "text/html": [
       "<div>\n",
       "<style scoped>\n",
       "    .dataframe tbody tr th:only-of-type {\n",
       "        vertical-align: middle;\n",
       "    }\n",
       "\n",
       "    .dataframe tbody tr th {\n",
       "        vertical-align: top;\n",
       "    }\n",
       "\n",
       "    .dataframe thead th {\n",
       "        text-align: right;\n",
       "    }\n",
       "</style>\n",
       "<table border=\"1\" class=\"dataframe\">\n",
       "  <thead>\n",
       "    <tr style=\"text-align: right;\">\n",
       "      <th></th>\n",
       "      <th>Volatility</th>\n",
       "      <th>Benchmark PV</th>\n",
       "    </tr>\n",
       "  </thead>\n",
       "  <tbody>\n",
       "    <tr>\n",
       "      <th>30</th>\n",
       "      <td>0.009253</td>\n",
       "      <td>12086.22</td>\n",
       "    </tr>\n",
       "    <tr>\n",
       "      <th>90</th>\n",
       "      <td>0.010573</td>\n",
       "      <td>480964.53</td>\n",
       "    </tr>\n",
       "    <tr>\n",
       "      <th>180</th>\n",
       "      <td>0.011109</td>\n",
       "      <td>276108.33</td>\n",
       "    </tr>\n",
       "    <tr>\n",
       "      <th>360</th>\n",
       "      <td>0.010055</td>\n",
       "      <td>749027.28</td>\n",
       "    </tr>\n",
       "    <tr>\n",
       "      <th>720</th>\n",
       "      <td>0.009100</td>\n",
       "      <td>7333340.02</td>\n",
       "    </tr>\n",
       "    <tr>\n",
       "      <th>1080</th>\n",
       "      <td>0.008031</td>\n",
       "      <td>2234516.74</td>\n",
       "    </tr>\n",
       "  </tbody>\n",
       "</table>\n",
       "</div>"
      ],
      "text/plain": [
       "      Volatility  Benchmark PV\n",
       "30      0.009253      12086.22\n",
       "90      0.010573     480964.53\n",
       "180     0.011109     276108.33\n",
       "360     0.010055     749027.28\n",
       "720     0.009100    7333340.02\n",
       "1080    0.008031    2234516.74"
      ]
     },
     "metadata": {},
     "output_type": "display_data"
    },
    {
     "name": "stdout",
     "output_type": "stream",
     "text": [
      "Weights for each CF\n"
     ]
    },
    {
     "data": {
      "text/html": [
       "<div>\n",
       "<style scoped>\n",
       "    .dataframe tbody tr th:only-of-type {\n",
       "        vertical-align: middle;\n",
       "    }\n",
       "\n",
       "    .dataframe tbody tr th {\n",
       "        vertical-align: top;\n",
       "    }\n",
       "\n",
       "    .dataframe thead th {\n",
       "        text-align: right;\n",
       "    }\n",
       "</style>\n",
       "<table border=\"1\" class=\"dataframe\">\n",
       "  <thead>\n",
       "    <tr style=\"text-align: right;\">\n",
       "      <th></th>\n",
       "      <th>alpha1</th>\n",
       "      <th>alpha2</th>\n",
       "    </tr>\n",
       "  </thead>\n",
       "  <tbody>\n",
       "    <tr>\n",
       "      <th>30-90</th>\n",
       "      <td>0.024513</td>\n",
       "      <td>0.975487</td>\n",
       "    </tr>\n",
       "    <tr>\n",
       "      <th>180-360</th>\n",
       "      <td>0.577885</td>\n",
       "      <td>0.422115</td>\n",
       "    </tr>\n",
       "    <tr>\n",
       "      <th>360-720</th>\n",
       "      <td>0.822529</td>\n",
       "      <td>0.177471</td>\n",
       "    </tr>\n",
       "    <tr>\n",
       "      <th>360-720</th>\n",
       "      <td>0.368563</td>\n",
       "      <td>0.631437</td>\n",
       "    </tr>\n",
       "    <tr>\n",
       "      <th>720-1080</th>\n",
       "      <td>0.757144</td>\n",
       "      <td>0.242856</td>\n",
       "    </tr>\n",
       "  </tbody>\n",
       "</table>\n",
       "</div>"
      ],
      "text/plain": [
       "            alpha1    alpha2\n",
       "30-90     0.024513  0.975487\n",
       "180-360   0.577885  0.422115\n",
       "360-720   0.822529  0.177471\n",
       "360-720   0.368563  0.631437\n",
       "720-1080  0.757144  0.242856"
      ]
     },
     "metadata": {},
     "output_type": "display_data"
    },
    {
     "name": "stdout",
     "output_type": "stream",
     "text": [
      "The ten-day 99\\% VaR of portfolio D using CFM is 724,635.77.\n"
     ]
    }
   ],
   "source": [
    "D2= VaR_cfm_bonds(df=portD, d=10, p=99, \n",
    "    face_value=10000000, start_date = \"2022-10-03\", maturity_date = \"2024-12-31\",\n",
    "    coupon_rate=0.10, coupon_freq=2)\n",
    "\n",
    "print(f\"The ten-day 99\\% VaR of portfolio D using CFM is {format(D2,',')}.\")"
   ]
  },
  {
   "cell_type": "markdown",
   "id": "c6db6740-3868-4eee-84e2-5b3dbef85ef2",
   "metadata": {},
   "source": [
    "## PART 3: Analysis"
   ]
  },
  {
   "cell_type": "markdown",
   "id": "c22f6181-6621-48a6-9308-49977bd459b8",
   "metadata": {},
   "source": [
    "## Question A on Currencies\n",
    "\n",
    "Consider **Portfolio A**. Explore, analyze, and discuss the effect of changing the following parameters on the resulting VaR under **each of the three methods** (Delta-Normal, HS, BRW):\n",
    "1. confidence level \n",
    "2. value of N for N-day VaR\n",
    "3. time window of historical data used to calculate VaR\n",
    "4. decay parameter for BRW Approach\n",
    "\n",
    "Based on your sensitivity analysis, which of the three methods would best capture the market risk of the portfolio? Justify your choice. "
   ]
  },
  {
   "cell_type": "markdown",
   "id": "4d91188a-5762-485e-930e-289a44124b80",
   "metadata": {},
   "source": [
    "#### 1. VARYING THE PARAMETERS IN THE DELTA-NORMAL APPROACH"
   ]
  },
  {
   "cell_type": "code",
   "execution_count": 36,
   "id": "69c942e3-14d3-4937-9679-995d6940afca",
   "metadata": {
    "tags": []
   },
   "outputs": [
    {
     "data": {
      "image/png": "[encoded data removed]",
      "text/plain": [
       "<Figure size 432x288 with 1 Axes>"
      ]
     },
     "metadata": {
      "needs_background": "light"
     },
     "output_type": "display_data"
    }
   ],
   "source": [
    "confidence_level_lst = [ (i+1) for i in range(50,99) ]\n",
    "\n",
    "VaR_u = [ ]  \n",
    "for confidence_level in confidence_level_lst:\n",
    "    VaR_u.append(undiversified_d_day_p_percent_VaR_delta_normal_fx(df_lst=FX_portA, F_lst=F_lstA, d=1, p= confidence_level, ewma_par_lst=None))\n",
    "\n",
    "plt.plot( confidence_level_lst , VaR_u )\n",
    "plt.xlabel( 'confidence level ' )\n",
    "plt.ylabel( 'DN VaR_undiversified' )\n",
    "plt.title(\"Effect of changing the confidence level (p) in undiversified DN VaR\")\n",
    "plt.show()"
   ]
  },
  {
   "cell_type": "code",
   "execution_count": 44,
   "id": "4f3af2fc-0d37-42e1-a640-b7aa6231ecd7",
   "metadata": {
    "tags": []
   },
   "outputs": [
    {
     "data": {
      "image/png": "[encoded data removed]",
      "text/plain": [
       "<Figure size 432x288 with 1 Axes>"
      ]
     },
     "metadata": {
      "needs_background": "light"
     },
     "output_type": "display_data"
    }
   ],
   "source": [
    "confidence_level_lst = [ (i+1) for i in range(49,99) ]\n",
    "\n",
    "VaR_u = [ ]  \n",
    "for confidence_level in confidence_level_lst:\n",
    "    VaR_u.append( diversified_d_day_p_percent_VaR_delta_normal_fx(\n",
    "        df_lst = FX_portA,\n",
    "        F_lst  = F_lstA,\n",
    "        d = 1,p= confidence_level,\n",
    "        ewma_par_lst=None,\n",
    "        covar_ewma_par=None))\n",
    "\n",
    "plt.plot( confidence_level_lst , VaR_u )\n",
    "plt.xlabel( 'confidence level ' )\n",
    "plt.ylabel( 'DN VaR_diversified' )\n",
    "plt.title(\"Effect of changing the confidence level (p) in diversified DN VaR\")\n",
    "plt.show()"
   ]
  },
  {
   "cell_type": "code",
   "execution_count": 49,
   "id": "afc000b3-9984-4699-8a68-cfa2ec577c1f",
   "metadata": {
    "tags": []
   },
   "outputs": [
    {
     "data": {
      "image/png": "[encoded data removed]",
      "text/plain": [
       "<Figure size 432x288 with 1 Axes>"
      ]
     },
     "metadata": {
      "needs_background": "light"
     },
     "output_type": "display_data"
    }
   ],
   "source": [
    "N_lst = [ i+1 for i in range(0,30) ]\n",
    "\n",
    "VaR_u = [ ]  \n",
    "for d in N_lst:\n",
    "    VaR_u.append( undiversified_d_day_p_percent_VaR_delta_normal_fx(\n",
    "    df_lst=FX_portA,\n",
    "    F_lst=F_lstA,\n",
    "    d=d, p= 99, ewma_par_lst=None))\n",
    "\n",
    "plt.plot( N_lst , VaR_u )\n",
    "plt.xlabel( 'N' )\n",
    "plt.ylabel( 'DN VaR_undiversified' )\n",
    "plt.title(\"Effect of N in N-day undiversified DN VaR\")\n",
    "plt.show()"
   ]
  },
  {
   "cell_type": "code",
   "execution_count": 50,
   "id": "3d9562a9-656f-4ee5-bc14-8a85e3833641",
   "metadata": {
    "tags": []
   },
   "outputs": [
    {
     "data": {
      "image/png": "[encoded data removed]",
      "text/plain": [
       "<Figure size 432x288 with 1 Axes>"
      ]
     },
     "metadata": {
      "needs_background": "light"
     },
     "output_type": "display_data"
    }
   ],
   "source": [
    "N_lst = [ i+1 for i in range(0,30) ]\n",
    "\n",
    "VaR_d = [ ]  \n",
    "for d in N_lst:\n",
    "    VaR_d.append( diversified_d_day_p_percent_VaR_delta_normal_fx(\n",
    "    df_lst=FX_portA,\n",
    "    F_lst=F_lstA,\n",
    "    d=d, p= 99, ewma_par_lst=None))\n",
    "\n",
    "plt.plot( N_lst , VaR_d )\n",
    "plt.xlabel( 'N' )\n",
    "plt.ylabel( 'DN VaR_diversfied' )\n",
    "plt.title(\"Effect of N in N-day diversified DN VaR\")\n",
    "plt.show()"
   ]
  },
  {
   "cell_type": "code",
   "execution_count": 28,
   "id": "13a6730d-a01a-4c13-80b9-ec14d869afb9",
   "metadata": {
    "tags": []
   },
   "outputs": [
    {
     "data": {
      "image/png": "[encoded data removed]",
      "text/plain": [
       "<Figure size 432x288 with 1 Axes>"
      ]
     },
     "metadata": {
      "needs_background": "light"
     },
     "output_type": "display_data"
    }
   ],
   "source": [
    "pd.options.mode.chained_assignment = None \n",
    "\n",
    "FX_portA1 = [ [ df.iloc[0:(i+2),:] for df in FX_portA ] for i in range(2610) ]\n",
    "VaR_u = []\n",
    "for d in range(2610):\n",
    "    VaR_u.append(undiversified_d_day_p_percent_VaR_delta_normal_fx(df_lst = FX_portA1[d], F_lst = F_lstA,d=1, p= 99))\n",
    "    \n",
    "plt.plot( [ i+1 for i in range(2610)], VaR_u )\n",
    "plt.xlabel('Time window')\n",
    "plt.ylabel('VaR_undiversified')\n",
    "plt.title(\"Effect of changing the time window in undiversified DN VaR\")\n",
    "plt.show()"
   ]
  },
  {
   "cell_type": "code",
   "execution_count": 32,
   "id": "73546a8f-ebc4-460a-89f0-2d5b319e7e7c",
   "metadata": {
    "tags": []
   },
   "outputs": [
    {
     "data": {
      "image/png": "[encoded data removed]",
      "text/plain": [
       "<Figure size 432x288 with 1 Axes>"
      ]
     },
     "metadata": {
      "needs_background": "light"
     },
     "output_type": "display_data"
    }
   ],
   "source": [
    "pd.options.mode.chained_assignment = None \n",
    "\n",
    "FX_portA1 = [ [ df.iloc[0:i+3,:] for df in FX_portA ] for i in range(2609) ]\n",
    "\n",
    "VaR_d = []\n",
    "for d in range(2609):\n",
    "    VaR_d.append(diversified_d_day_p_percent_VaR_delta_normal_fx(df_lst = FX_portA1[d], F_lst=F_lstA,d=1, p=99))\n",
    "\n",
    "plt.plot( [i+2 for i in range(2609)], VaR_d )\n",
    "plt.xlabel( 'Time window ' )\n",
    "plt.ylabel( 'DN VaR_undiversified' )\n",
    "plt.title(\"Effect of changing the Time window in undiversified DN VaR\")\n",
    "plt.show()"
   ]
  },
  {
   "cell_type": "markdown",
   "id": "b6e988b1-8469-4065-8a54-d80c3d1404eb",
   "metadata": {},
   "source": [
    "#### 2. VARYING THE PARAMETERS IN THE HS APPROACH"
   ]
  },
  {
   "cell_type": "code",
   "execution_count": 45,
   "id": "42e8896f-2c0e-4c51-b880-5c62b65f4289",
   "metadata": {
    "tags": []
   },
   "outputs": [
    {
     "data": {
      "image/png": "[encoded data removed]",
      "text/plain": [
       "<Figure size 432x288 with 1 Axes>"
      ]
     },
     "metadata": {
      "needs_background": "light"
     },
     "output_type": "display_data"
    }
   ],
   "source": [
    "confidence_level_lst = [ (i+1) for i in range(50,99) ]\n",
    "\n",
    "VaR_u = [ ]  \n",
    "for confidence_level in confidence_level_lst:\n",
    "    VaR_u.append( VaR_hs_fx(\n",
    "    df_lst= FX_portA, \n",
    "    F_lst= F_lstA, \n",
    "    d=1, p= confidence_level))\n",
    "\n",
    "plt.plot( confidence_level_lst , VaR_u )\n",
    "plt.xlabel( 'confidence level ' )\n",
    "plt.ylabel( 'VaR_Historical' )\n",
    "plt.title(\"Effect of changing the confidence level (p) in HS VaR\")\n",
    "plt.show()"
   ]
  },
  {
   "cell_type": "code",
   "execution_count": 51,
   "id": "229aadf5-8bbe-41ec-ae36-69b8b09dbbd6",
   "metadata": {
    "tags": []
   },
   "outputs": [
    {
     "data": {
      "image/png": "[encoded data removed]",
      "text/plain": [
       "<Figure size 432x288 with 1 Axes>"
      ]
     },
     "metadata": {
      "needs_background": "light"
     },
     "output_type": "display_data"
    }
   ],
   "source": [
    "N_lst = [ i+1 for i in range(0,30) ]\n",
    "\n",
    "VaR_hs = [ ]  \n",
    "for d1 in N_lst:\n",
    "    VaR_hs.append( VaR_hs_fx(\n",
    "    df_lst= FX_portA, \n",
    "    F_lst= F_lstA, \n",
    "    d=d1, p= 99) )\n",
    "    \n",
    "plt.plot( N_lst , VaR_hs)\n",
    "plt.xlabel( 'N' )\n",
    "plt.ylabel( 'VaR_Historical' )\n",
    "plt.title(\"Effect of changing N in the N-day HS VaR\")\n",
    "plt.show()"
   ]
  },
  {
   "cell_type": "code",
   "execution_count": 30,
   "id": "695e80e9-5ddd-44c2-83f1-5e51ea354990",
   "metadata": {
    "tags": []
   },
   "outputs": [
    {
     "data": {
      "image/png": "[encoded data removed]",
      "text/plain": [
       "<Figure size 432x288 with 1 Axes>"
      ]
     },
     "metadata": {
      "needs_background": "light"
     },
     "output_type": "display_data"
    }
   ],
   "source": [
    "FX_portA1 = [ [ df.iloc[0:i+2,:] for df in FX_portA ] for i in range(2610) ]\n",
    "\n",
    "VaR_h = []\n",
    "for d in range(2610):\n",
    "    VaR_h.append( VaR_hs_fx( df_lst= FX_portA1[d],  F_lst= F_lstA,  d=1, p= 99) )\n",
    "\n",
    "plt.plot( [i+1 for i in range(2610)], VaR_h )\n",
    "plt.xlabel( 'Time window ' )\n",
    "plt.ylabel( 'HS VaR' )\n",
    "plt.title(\"Effect of changing the Time window in HS VaR\")\n",
    "plt.show()"
   ]
  },
  {
   "cell_type": "markdown",
   "id": "6354e625-ff79-475d-8d50-1d18fa1b133e",
   "metadata": {},
   "source": [
    "#### 3. VARYING THE PARAMETERS IN THE BRW APPROACH (Recheck)"
   ]
  },
  {
   "cell_type": "code",
   "execution_count": 48,
   "id": "54e7b71b-b1a6-4b92-9b74-d14838944d2c",
   "metadata": {
    "tags": []
   },
   "outputs": [
    {
     "data": {
      "image/png": "[encoded data removed]",
      "text/plain": [
       "<Figure size 432x288 with 1 Axes>"
      ]
     },
     "metadata": {
      "needs_background": "light"
     },
     "output_type": "display_data"
    }
   ],
   "source": [
    "confidence_level_lst = [ (i+1) for i in range(50,99) ]\n",
    "\n",
    "VaR_u = [ ]  \n",
    "for confidence_level in confidence_level_lst:\n",
    "    VaR_u.append( VaR_brw_fx(\n",
    "    df_lst= FX_portA, \n",
    "    F_lst= F_lstA, \n",
    "    d=1, p=confidence_level, decay_par = 0.8))\n",
    "\n",
    "plt.plot( confidence_level_lst , VaR_u )\n",
    "plt.xlabel( 'confidence level ' )\n",
    "plt.ylabel( 'VaR_BRW' )\n",
    "plt.title(\"Effect of changing the confidence level (p) in BRW VaR\")\n",
    "plt.show()"
   ]
  },
  {
   "cell_type": "code",
   "execution_count": 52,
   "id": "d8d8f124-26a1-4ed2-9cb8-2715f3845338",
   "metadata": {
    "tags": []
   },
   "outputs": [
    {
     "data": {
      "image/png": "[encoded data removed]",
      "text/plain": [
       "<Figure size 432x288 with 1 Axes>"
      ]
     },
     "metadata": {
      "needs_background": "light"
     },
     "output_type": "display_data"
    }
   ],
   "source": [
    "N_lst = [ i+1 for i in range(0,30) ]\n",
    "\n",
    "VaR_u = [ ]  \n",
    "for d in N_lst:\n",
    "    VaR_u.append( VaR_brw_fx(\n",
    "    df_lst= FX_portA, \n",
    "    F_lst= F_lstA, \n",
    "    d=d, p= 99, decay_par = 0.8))\n",
    "\n",
    "plt.plot( N_lst , VaR_u )\n",
    "plt.xlabel( 'N' )\n",
    "plt.ylabel( 'VaR_BRW' )\n",
    "plt.title(\"Effect of N in the N-day BRW VaR\")\n",
    "plt.show()"
   ]
  },
  {
   "cell_type": "code",
   "execution_count": 66,
   "id": "ae585945-a58a-41fe-9278-e00fd6df9e6f",
   "metadata": {
    "tags": []
   },
   "outputs": [
    {
     "data": {
      "image/png": "[encoded data removed]",
      "text/plain": [
       "<Figure size 432x288 with 1 Axes>"
      ]
     },
     "metadata": {
      "needs_background": "light"
     },
     "output_type": "display_data"
    }
   ],
   "source": [
    "pd.options.mode.chained_assignment = None \n",
    "\n",
    "FX_portA1 = [ [ df.iloc[0:i+3,:] for df in FX_portA ] for i in range(2609) ]\n",
    "\n",
    "VaR_brw = []\n",
    "for d in range(2609):\n",
    "    VaR_brw.append(VaR_brw_fx(\n",
    "    df_lst= FX_portA1[d], \n",
    "    F_lst= F_lstA, \n",
    "    d=1, p= 99, decay_par = 0.8) )\n",
    "\n",
    "plt.plot( [i+3 for i in range(2609)], VaR_brw )\n",
    "plt.xlabel( 'Time window ' )\n",
    "plt.ylabel( 'BRW VaR' )\n",
    "plt.title(\"Effect of changing the Time window in BRW VaR\")\n",
    "plt.show()"
   ]
  },
  {
   "cell_type": "code",
   "execution_count": 71,
   "id": "f6752ffc-c02d-41c8-82c3-639e3d2566b6",
   "metadata": {
    "tags": []
   },
   "outputs": [
    {
     "data": {
      "image/png": "[encoded data removed]",
      "text/plain": [
       "<Figure size 432x288 with 1 Axes>"
      ]
     },
     "metadata": {
      "needs_background": "light"
     },
     "output_type": "display_data"
    }
   ],
   "source": [
    "DP_lst = [ (i+1)/100 for i in range(0,99) ]\n",
    "\n",
    "VaR_brw = [ ]  \n",
    "for decay_par in DP_lst:\n",
    "    VaR_brw.append( VaR_brw_fx(\n",
    "    df_lst= FX_portA, \n",
    "    F_lst= F_lstA, \n",
    "    d=1, p= 99, decay_par = decay_par))\n",
    "\n",
    "plt.plot( DP_lst , VaR_brw )\n",
    "plt.xlabel( 'decay par' )\n",
    "plt.ylabel( 'VaR_BRW' )\n",
    "plt.title(\"Effect of changing the decay par in BRW VaR\")\n",
    "plt.show()"
   ]
  },
  {
   "cell_type": "markdown",
   "id": "3a57ef73-4712-4065-af47-ff717454f7a0",
   "metadata": {},
   "source": [
    "#### ANALYSES (INSUFFICIENT)\n",
    "\n",
    "Based on our sensitivity analysis, the best method that would capture the market risk of Portfolio A is the BRW approach. Notice in the among the graphs across three approaches, the trends in the BRW section are more stable. This indicates how BRW is consistent in predicting the market risk. Unlike in other graphs where the trends are more random, the graphs in BRW are stable regardless of the parameters we vary."
   ]
  },
  {
   "cell_type": "markdown",
   "id": "85ee1b6a-7d11-4540-8abb-47b54b083e96",
   "metadata": {
    "tags": []
   },
   "source": [
    "### Question B on Bonds\n",
    "Consider **Portfolio C** and its undiversified 10-day 99% VaR which you calculated using Delta-Normal Approach in Part 2.\n",
    "\n",
    "Which of the four bonds in the fixed-income portfolio has the highest contribution to the undiversified 10-day 99% VaR? Why? Compare the individual VaRs and determine which factors and bond features led to the bond's high VaR contribution. Explore and discuss the effect of these factors and features to the resulting VaR."
   ]
  },
  {
   "cell_type": "code",
   "execution_count": 39,
   "id": "cb772c89-d7cd-4a7a-bc86-027caa79d72b",
   "metadata": {
    "tags": []
   },
   "outputs": [],
   "source": [
    "def get_factors_d_day_p_percent_VaR_delta_normal_bonds(df, d, p, \n",
    "    face_value_lst, start_date, maturity_date_lst, coupon_rate_lst, \n",
    "    coupon_freq_lst\n",
    "):\n",
    "    \"\"\"\n",
    "    This function helps answer Question B of Part 3. The specifications in 'undiversified_d_day_p_percent_VaR_delta_normal_bonds' also\n",
    "    appplies here. This returns some key factors needed to compute for an individual VaR of each bond in a portfolio.\n",
    "    \"\"\"\n",
    "    \n",
    "    #create the list of ytm for the DV01 computation\n",
    "    ytm_lst= np.array(Bond_portC.iloc[0:1,1:].values.flatten().tolist())/100\n",
    "\n",
    "    #solve for the DV01 of each bobond\n",
    "    DV01_lst = []\n",
    "    for face_value, maturity_date, coupon_rate, coupon_freq, ytm in zip(face_value_lst,maturity_date_lst,coupon_rate_lst,coupon_freq_lst,ytm_lst):\n",
    "        dv01 = get_DV01(start_date, maturity_date, face_value, coupon_rate, coupon_freq, ytm)\n",
    "        DV01_lst.append(dv01)\n",
    "        \n",
    "    #create a df of log(returns) of yields of each bond\n",
    "    for column in df:\n",
    "        df_shifted    = df.shift(-d)\n",
    "        df_logreturns = np.log(df.iloc[:,1:]/df_shifted.iloc[:,1:])\n",
    "        df_std        = np.array(df_logreturns.std())\n",
    "        \n",
    "    quantile = NormalDist().inv_cdf(p)\n",
    "    VaR = 100**2 * df_std * DV01_lst * ytm_lst * quantile\n",
    "        \n",
    "    return ytm_lst, DV01_lst, df_std, VaR"
   ]
  },
  {
   "cell_type": "code",
   "execution_count": 40,
   "id": "d309407e-76f3-4357-8db7-8bd190e20c56",
   "metadata": {
    "tags": []
   },
   "outputs": [
    {
     "name": "stdout",
     "output_type": "stream",
     "text": [
      "Table 2. Factors that Affect VaR of Each Bond\n",
      "╒═══════════╤═════════╤══════════╤═══════════╤═══════════╕\n",
      "│ Bond      │      y0 │     DV01 │       STD │       VaR │\n",
      "╞═══════════╪═════════╪══════════╪═══════════╪═══════════╡\n",
      "│ Roquefort │ 0.07667 │ 453.713  │ 0.0128401 │ 10390.8   │\n",
      "├───────────┼─────────┼──────────┼───────────┼───────────┤\n",
      "│ Camembert │ 0.07475 │  66.6719 │ 0.0042675 │   494.768 │\n",
      "├───────────┼─────────┼──────────┼───────────┼───────────┤\n",
      "│ Feta      │ 0.06176 │ 861.159  │ 0.0156417 │ 19353.1   │\n",
      "├───────────┼─────────┼──────────┼───────────┼───────────┤\n",
      "│ Gouda     │ 0.0297  │ 500.733  │ 0.0304233 │ 10525.5   │\n",
      "╘═══════════╧═════════╧══════════╧═══════════╧═══════════╛\n"
     ]
    }
   ],
   "source": [
    "ytm_lst= np.array(Bond_portC.iloc[0:1,1:].values.flatten().tolist())/100\n",
    "\n",
    "face_value_lst    = [1000000,1000000,1000000,1000000] \n",
    "start_date        = \"2022-10-03\"\n",
    "maturity_date_lst = [\"2027-12-31\",\"2023-06-01\",\"2035-01-15\",\"2030-09-28\"]\n",
    "coupon_rate_lst   = [0.08,0.075,0.06,0]\n",
    "coupon_freq_lst   = [1,2,4,0]\n",
    "\n",
    "ytm_lst, DV01_lst, df_std,VaR = get_factors_d_day_p_percent_VaR_delta_normal_bonds(Bond_portC,10,0.99, face_value_lst=[1000000,1000000,1000000,1000000], \n",
    "    start_date=\"2022-10-03\", maturity_date_lst=[\"2027-12-31\",\"2023-06-01\",\"2035-01-15\",\"2030-09-28\"], \n",
    "    coupon_rate_lst=[0.08,0.075,0.06,0], coupon_freq_lst=[1,2,4,0])\n",
    "\n",
    "row_names = [\"Bond\",\"y0\", \"DV01\", \"STD\", \"VaR\"]\n",
    "bond_names =  [\"Roquefort\",\"Camembert\",\"Feta\",\"Gouda\"]\n",
    "data       =  zip(bond_names,ytm_lst, DV01_lst, df_std,VaR)\n",
    "print(\"Table 2. Factors that Affect VaR of Each Bond\")\n",
    "print(tabulate(data,headers=row_names,tablefmt=\"fancy_grid\"))"
   ]
  },
  {
   "cell_type": "markdown",
   "id": "c115ac69-5c6d-474b-b476-5971659d9dd5",
   "metadata": {},
   "source": [
    "Considering Table 2, the following observations are made:\n",
    "1. It is clear that the bond Feta has the highest contribution to the undiversified 10-day 99% VaR with approximately **38,495.80**. Mainly, this can be attributed to its high DV01. \n",
    "\n",
    "    1.1. In fact, the ranking of the bonds in terms of VaR follows that of DV01 and STD. This is congruent to the definition of these two concepts since VaR is directly linked to the concept of duration in situations where a portfolio is exposed to one risk factor only, the interest rate. Duration measures the exposure to the risk facto while VaR incorporates duration with the probability of an adverse move in the interest rate (Jorion, n.d).\n",
    "  \n",
    "  2) Meanwhile, the VaR of Roquefort and Gouda were relatively close but Gouda had a higher VaR because it has a greater DV01 and standard deviation of log returns. \n",
    "  3) Camembert, clearly, has the lowest VaR since it has a very low DV01 and standard deviation of log returns. It may have one of the highest recent yield (y0) but the mentioned factors were too low compared to pull up its VaR."
   ]
  }
 ],
 "metadata": {
  "kernelspec": {
   "display_name": "Python 3 (ipykernel)",
   "language": "python",
   "name": "python3"
  },
  "language_info": {
   "codemirror_mode": {
    "name": "ipython",
    "version": 3
   },
   "file_extension": ".py",
   "mimetype": "text/x-python",
   "name": "python",
   "nbconvert_exporter": "python",
   "pygments_lexer": "ipython3",
   "version": "3.9.12"
  }
 },
 "nbformat": 4,
 "nbformat_minor": 5
}
